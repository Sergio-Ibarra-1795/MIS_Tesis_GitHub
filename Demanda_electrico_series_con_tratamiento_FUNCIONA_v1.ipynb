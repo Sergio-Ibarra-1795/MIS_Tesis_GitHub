{
 "cells": [
  {
   "cell_type": "markdown",
   "metadata": {},
   "source": [
    "## MODELOS DE SERIES DE TIMPO PARA DEMANDA DE GAS NATURAL EN SECTOR ELÉCTRICO EN MÉXICO "
   ]
  },
  {
   "cell_type": "code",
   "execution_count": 1,
   "metadata": {},
   "outputs": [],
   "source": [
    "import pandas as pd\n",
    "import numpy as np\n",
    "import matplotlib.pyplot as plt\n",
    "from pandas.plotting import register_matplotlib_converters\n",
    "from statsmodels.graphics.tsaplots import plot_acf, plot_pacf\n",
    "from statsmodels.tsa.stattools import acf, pacf\n",
    "from statsmodels.tsa.arima.model import ARIMA\n",
    "from sympy import true\n",
    "from datetime import datetime, timedelta\n",
    "register_matplotlib_converters()\n",
    "from time import time \n"
   ]
  },
  {
   "cell_type": "markdown",
   "metadata": {},
   "source": [
    "Vamos a leer la data de Demanda en sector eléctrico"
   ]
  },
  {
   "cell_type": "code",
   "execution_count": 2,
   "metadata": {},
   "outputs": [
    {
     "data": {
      "text/html": [
       "<div>\n",
       "<style scoped>\n",
       "    .dataframe tbody tr th:only-of-type {\n",
       "        vertical-align: middle;\n",
       "    }\n",
       "\n",
       "    .dataframe tbody tr th {\n",
       "        vertical-align: top;\n",
       "    }\n",
       "\n",
       "    .dataframe thead th {\n",
       "        text-align: right;\n",
       "    }\n",
       "</style>\n",
       "<table border=\"1\" class=\"dataframe\">\n",
       "  <thead>\n",
       "    <tr style=\"text-align: right;\">\n",
       "      <th></th>\n",
       "      <th>Date</th>\n",
       "      <th>Demanded_Gas</th>\n",
       "    </tr>\n",
       "  </thead>\n",
       "  <tbody>\n",
       "    <tr>\n",
       "      <th>0</th>\n",
       "      <td>2005-01-01</td>\n",
       "      <td>1819.58</td>\n",
       "    </tr>\n",
       "    <tr>\n",
       "      <th>1</th>\n",
       "      <td>2005-02-01</td>\n",
       "      <td>1895.33</td>\n",
       "    </tr>\n",
       "    <tr>\n",
       "      <th>2</th>\n",
       "      <td>2005-03-01</td>\n",
       "      <td>1765.86</td>\n",
       "    </tr>\n",
       "    <tr>\n",
       "      <th>3</th>\n",
       "      <td>2005-04-01</td>\n",
       "      <td>1642.70</td>\n",
       "    </tr>\n",
       "    <tr>\n",
       "      <th>4</th>\n",
       "      <td>2005-05-01</td>\n",
       "      <td>1895.54</td>\n",
       "    </tr>\n",
       "    <tr>\n",
       "      <th>...</th>\n",
       "      <td>...</td>\n",
       "      <td>...</td>\n",
       "    </tr>\n",
       "    <tr>\n",
       "      <th>208</th>\n",
       "      <td>2022-05-01</td>\n",
       "      <td>3350.03</td>\n",
       "    </tr>\n",
       "    <tr>\n",
       "      <th>209</th>\n",
       "      <td>2022-06-01</td>\n",
       "      <td>3498.70</td>\n",
       "    </tr>\n",
       "    <tr>\n",
       "      <th>210</th>\n",
       "      <td>2022-07-01</td>\n",
       "      <td>3350.97</td>\n",
       "    </tr>\n",
       "    <tr>\n",
       "      <th>211</th>\n",
       "      <td>2022-08-01</td>\n",
       "      <td>3506.42</td>\n",
       "    </tr>\n",
       "    <tr>\n",
       "      <th>212</th>\n",
       "      <td>2022-09-01</td>\n",
       "      <td>3778.37</td>\n",
       "    </tr>\n",
       "  </tbody>\n",
       "</table>\n",
       "<p>213 rows × 2 columns</p>\n",
       "</div>"
      ],
      "text/plain": [
       "          Date  Demanded_Gas\n",
       "0   2005-01-01       1819.58\n",
       "1   2005-02-01       1895.33\n",
       "2   2005-03-01       1765.86\n",
       "3   2005-04-01       1642.70\n",
       "4   2005-05-01       1895.54\n",
       "..         ...           ...\n",
       "208 2022-05-01       3350.03\n",
       "209 2022-06-01       3498.70\n",
       "210 2022-07-01       3350.97\n",
       "211 2022-08-01       3506.42\n",
       "212 2022-09-01       3778.37\n",
       "\n",
       "[213 rows x 2 columns]"
      ]
     },
     "execution_count": 2,
     "metadata": {},
     "output_type": "execute_result"
    }
   ],
   "source": [
    "demanda_electrico_original = pd.read_excel(R'Demanda_electrico_2022_full1.xlsx')\n",
    "demanda_electrico_original"
   ]
  },
  {
   "cell_type": "markdown",
   "metadata": {},
   "source": [
    "Vamos a graficar los datos \"originales\" de demanda eléctrico desde 2005 hasta 2022"
   ]
  },
  {
   "cell_type": "code",
   "execution_count": 3,
   "metadata": {},
   "outputs": [
    {
     "data": {
      "text/plain": [
       "Text(0, 0.5, 'Demanda [MMpcd]')"
      ]
     },
     "execution_count": 3,
     "metadata": {},
     "output_type": "execute_result"
    },
    {
     "data": {
      "image/png": "[encoded data removed]",
      "text/plain": [
       "<Figure size 720x288 with 1 Axes>"
      ]
     },
     "metadata": {
      "needs_background": "light"
     },
     "output_type": "display_data"
    }
   ],
   "source": [
    "plt.figure(figsize=(10,4))\n",
    "plt.plot(demanda_electrico_original['Date'], demanda_electrico_original['Demanded_Gas'], color='#48C9B0')\n",
    "plt.title('Demanda de gas natural en el sector eléctrico en México \"Datos originales\"', fontsize=20)\n",
    "plt.ylabel('Demanda [MMpcd]', fontsize =16)"
   ]
  },
  {
   "cell_type": "markdown",
   "metadata": {},
   "source": [
    "Se lleva a cabo el proceso de prueba estacionariedad de Dickey-Fulley a la Demanda de gas natural en el sector eléctrico en México \"Datos originales\""
   ]
  },
  {
   "cell_type": "code",
   "execution_count": 4,
   "metadata": {},
   "outputs": [
    {
     "data": {
      "text/plain": [
       "(-1.9362234591018295,\n",
       " 0.3152169397511435,\n",
       " 15,\n",
       " 197,\n",
       " {'1%': -3.463987334463603,\n",
       "  '5%': -2.8763259091636213,\n",
       "  '10%': -2.5746515171738515},\n",
       " 2667.963876967698)"
      ]
     },
     "execution_count": 4,
     "metadata": {},
     "output_type": "execute_result"
    }
   ],
   "source": [
    "import pandas as pd\n",
    "from statsmodels.tsa.stattools import adfuller\n",
    "\n",
    "# Perform ADF test for stationarity\n",
    "adf_test_electrico_original_sin_diferenciar = adfuller(demanda_electrico_original['Demanded_Gas'])\n",
    "\n",
    "\n",
    "adf_test_electrico_original_sin_diferenciar"
   ]
  },
  {
   "cell_type": "markdown",
   "metadata": {},
   "source": [
    "Se observa que el valor de p NO es menor a 0.05 porlo que NO se rechaza H0 que establece que la serie NO es estacionaria"
   ]
  },
  {
   "cell_type": "markdown",
   "metadata": {},
   "source": [
    "Se elaboran las gráficas de ACF y PACF de la Demanda de gas natural en el sector eléctrico en México con los \"Datos originales\""
   ]
  },
  {
   "cell_type": "code",
   "execution_count": 5,
   "metadata": {},
   "outputs": [
    {
     "data": {
      "image/png": "[encoded data removed]",
      "text/plain": [
       "<Figure size 432x288 with 1 Axes>"
      ]
     },
     "metadata": {
      "needs_background": "light"
     },
     "output_type": "display_data"
    }
   ],
   "source": [
    "import statsmodels.graphics.tsaplots as tsaplot\n",
    "# Create the Matplotlib axes object\n",
    "fig, ax = plt.subplots()\n",
    "\n",
    "# Plot the ACF\n",
    "tsaplot.plot_acf(demanda_electrico_original['Demanded_Gas'].dropna(), ax=ax)\n",
    "\n",
    "# Set the title\n",
    "ax.set_title(\"Función de Autocorrelacón para demanda de gas natural en sector eleéctrico 'Datos originales'\")\n",
    "\n",
    "# Show the plot\n",
    "plt.show()"
   ]
  },
  {
   "cell_type": "code",
   "execution_count": 6,
   "metadata": {},
   "outputs": [
    {
     "name": "stderr",
     "output_type": "stream",
     "text": [
      "c:\\Users\\Sergio\\AppData\\Local\\Programs\\Python\\Python310\\lib\\site-packages\\statsmodels\\graphics\\tsaplots.py:348: FutureWarning: The default method 'yw' can produce PACF values outside of the [-1,1] interval. After 0.13, the default will change tounadjusted Yule-Walker ('ywm'). You can use this method now by setting method='ywm'.\n",
      "  warnings.warn(\n"
     ]
    },
    {
     "data": {
      "image/png": "[encoded data removed]",
      "text/plain": [
       "<Figure size 432x288 with 1 Axes>"
      ]
     },
     "metadata": {
      "needs_background": "light"
     },
     "output_type": "display_data"
    }
   ],
   "source": [
    "import statsmodels.graphics.tsaplots as tsaplot\n",
    "# Create the Matplotlib axes object\n",
    "fig, ax = plt.subplots()\n",
    "\n",
    "# Plot the ACF\n",
    "tsaplot.plot_pacf(demanda_electrico_original['Demanded_Gas'].dropna(), ax=ax)\n",
    "\n",
    "# Set the title\n",
    "ax.set_title(\"Función de Autocorrelacón Parcial para demanda de gas natural en sector eléctrico 'Datos originales'\")\n",
    "\n",
    "# Show the plot\n",
    "plt.show()"
   ]
  },
  {
   "cell_type": "markdown",
   "metadata": {},
   "source": [
    "Se procede entonces a diferenciar la serie para lograr estacionariedad "
   ]
  },
  {
   "cell_type": "code",
   "execution_count": 7,
   "metadata": {},
   "outputs": [
    {
     "data": {
      "text/plain": [
       "0         NaN\n",
       "1       75.75\n",
       "2     -129.47\n",
       "3     -123.16\n",
       "4      252.84\n",
       "        ...  \n",
       "208    -53.41\n",
       "209    148.67\n",
       "210   -147.73\n",
       "211    155.45\n",
       "212    271.95\n",
       "Name: Demanded_Gas, Length: 213, dtype: float64"
      ]
     },
     "execution_count": 7,
     "metadata": {},
     "output_type": "execute_result"
    }
   ],
   "source": [
    "demanda_electrico_original_diff1 = demanda_electrico_original['Demanded_Gas'].diff()\n",
    "demanda_electrico_original_diff1"
   ]
  },
  {
   "cell_type": "markdown",
   "metadata": {},
   "source": [
    "Se grafica la diferencia de demanda en el sector eléctrico "
   ]
  },
  {
   "cell_type": "code",
   "execution_count": 8,
   "metadata": {},
   "outputs": [
    {
     "data": {
      "text/plain": [
       "Text(0, 0.5, ' Diferencia Demanda [MMpcd]')"
      ]
     },
     "execution_count": 8,
     "metadata": {},
     "output_type": "execute_result"
    },
    {
     "data": {
      "image/png": "[encoded data removed]",
      "text/plain": [
       "<Figure size 720x288 with 1 Axes>"
      ]
     },
     "metadata": {
      "needs_background": "light"
     },
     "output_type": "display_data"
    }
   ],
   "source": [
    "plt.figure(figsize=(10,4))\n",
    "plt.plot(demanda_electrico_original_diff1, color='#48C9B0')\n",
    "plt.title('DIFERENCIA de Demanda de gas natural en el sector eléctrico en México \"Datos originales\"')\n",
    "plt.ylabel(' Diferencia Demanda [MMpcd]', fontsize =15)"
   ]
  },
  {
   "cell_type": "markdown",
   "metadata": {},
   "source": [
    "Se lleva a cabo el proceso de prueba estacionariedad de Dickey-Fulley a la DIFERENCIA1 Demanda de gas natural en el sector eléctrico en México \"Datos originales\""
   ]
  },
  {
   "cell_type": "code",
   "execution_count": 9,
   "metadata": {},
   "outputs": [
    {
     "data": {
      "text/plain": [
       "(-4.063276407512036,\n",
       " 0.0011131147894365412,\n",
       " 15,\n",
       " 196,\n",
       " {'1%': -3.464161278384219,\n",
       "  '5%': -2.876401960790147,\n",
       "  '10%': -2.5746921001665974},\n",
       " 2657.205881461088)"
      ]
     },
     "execution_count": 9,
     "metadata": {},
     "output_type": "execute_result"
    }
   ],
   "source": [
    "import pandas as pd\n",
    "from statsmodels.tsa.stattools import adfuller\n",
    "\n",
    "# Check for infinite or NaN values\n",
    "demanda_electrico_original_diff1.dropna(inplace=True)\n",
    "\n",
    "# Perform ADF test\n",
    "adf_test_electrico_original_diferencia1 = adfuller(demanda_electrico_original_diff1)\n",
    "\n",
    "\n",
    "adf_test_electrico_original_diferencia1"
   ]
  },
  {
   "cell_type": "markdown",
   "metadata": {},
   "source": [
    "Se observa que el valor de p SI es menor a 0.05 porlo que SI se rechaza H0 que establece que la serie NO es estacionaria. "
   ]
  },
  {
   "cell_type": "markdown",
   "metadata": {},
   "source": [
    "Se elaboran las gráficas de ACF y PACF de la DIFERENCIA de Demanda de gas natural en el sector eléctrico en México"
   ]
  },
  {
   "cell_type": "code",
   "execution_count": 10,
   "metadata": {},
   "outputs": [
    {
     "data": {
      "image/png": "[encoded data removed]",
      "text/plain": [
       "<Figure size 432x288 with 1 Axes>"
      ]
     },
     "metadata": {
      "needs_background": "light"
     },
     "output_type": "display_data"
    }
   ],
   "source": [
    "import statsmodels.graphics.tsaplots as tsaplot\n",
    "# Create the Matplotlib axes object\n",
    "fig, ax = plt.subplots()\n",
    "\n",
    "# Plot the ACF\n",
    "tsaplot.plot_acf(demanda_electrico_original_diff1.dropna(), ax=ax)\n",
    "\n",
    "# Set the title\n",
    "ax.set_title(\"Función de Autocorrelacón para DIFERENCIA de demanda de gas natural en sector eleéctrico 'Datos originales'\")\n",
    "\n",
    "# Show the plot\n",
    "plt.show()"
   ]
  },
  {
   "cell_type": "code",
   "execution_count": 11,
   "metadata": {},
   "outputs": [
    {
     "name": "stderr",
     "output_type": "stream",
     "text": [
      "c:\\Users\\Sergio\\AppData\\Local\\Programs\\Python\\Python310\\lib\\site-packages\\statsmodels\\graphics\\tsaplots.py:348: FutureWarning: The default method 'yw' can produce PACF values outside of the [-1,1] interval. After 0.13, the default will change tounadjusted Yule-Walker ('ywm'). You can use this method now by setting method='ywm'.\n",
      "  warnings.warn(\n"
     ]
    },
    {
     "data": {
      "image/png": "[encoded data removed]",
      "text/plain": [
       "<Figure size 432x288 with 1 Axes>"
      ]
     },
     "metadata": {
      "needs_background": "light"
     },
     "output_type": "display_data"
    }
   ],
   "source": [
    "import statsmodels.graphics.tsaplots as tsaplot\n",
    "# Create the Matplotlib axes object\n",
    "fig, ax = plt.subplots()\n",
    "\n",
    "# Plot the ACF\n",
    "tsaplot.plot_pacf(demanda_electrico_original_diff1.dropna(), ax=ax)\n",
    "\n",
    "# Set the title\n",
    "ax.set_title(\"Función de Autocorrelacón Parcial para DIFERENCIA de demanda de gas natural en sector eleéctrico 'Datos originales'\")\n",
    "\n",
    "# Show the plot\n",
    "plt.show()"
   ]
  },
  {
   "cell_type": "markdown",
   "metadata": {},
   "source": [
    "Separamos la Demanda de gas natural en el sector eléctrico en data de train y test"
   ]
  },
  {
   "cell_type": "code",
   "execution_count": 12,
   "metadata": {},
   "outputs": [],
   "source": [
    "demanda_electrico_xls.set_index('Date', inplace=True)"
   ]
  },
  {
   "cell_type": "code",
   "execution_count": 16,
   "metadata": {},
   "outputs": [
    {
     "data": {
      "text/html": [
       "<div>\n",
       "<style scoped>\n",
       "    .dataframe tbody tr th:only-of-type {\n",
       "        vertical-align: middle;\n",
       "    }\n",
       "\n",
       "    .dataframe tbody tr th {\n",
       "        vertical-align: top;\n",
       "    }\n",
       "\n",
       "    .dataframe thead th {\n",
       "        text-align: right;\n",
       "    }\n",
       "</style>\n",
       "<table border=\"1\" class=\"dataframe\">\n",
       "  <thead>\n",
       "    <tr style=\"text-align: right;\">\n",
       "      <th></th>\n",
       "      <th>Date</th>\n",
       "      <th>Demanded_Gas</th>\n",
       "    </tr>\n",
       "  </thead>\n",
       "  <tbody>\n",
       "    <tr>\n",
       "      <th>0</th>\n",
       "      <td>2005-01-01</td>\n",
       "      <td>1819.58</td>\n",
       "    </tr>\n",
       "    <tr>\n",
       "      <th>1</th>\n",
       "      <td>2005-02-01</td>\n",
       "      <td>1895.33</td>\n",
       "    </tr>\n",
       "    <tr>\n",
       "      <th>2</th>\n",
       "      <td>2005-03-01</td>\n",
       "      <td>1765.86</td>\n",
       "    </tr>\n",
       "    <tr>\n",
       "      <th>3</th>\n",
       "      <td>2005-04-01</td>\n",
       "      <td>1642.70</td>\n",
       "    </tr>\n",
       "    <tr>\n",
       "      <th>4</th>\n",
       "      <td>2005-05-01</td>\n",
       "      <td>1895.54</td>\n",
       "    </tr>\n",
       "    <tr>\n",
       "      <th>...</th>\n",
       "      <td>...</td>\n",
       "      <td>...</td>\n",
       "    </tr>\n",
       "    <tr>\n",
       "      <th>208</th>\n",
       "      <td>2022-05-01</td>\n",
       "      <td>3350.03</td>\n",
       "    </tr>\n",
       "    <tr>\n",
       "      <th>209</th>\n",
       "      <td>2022-06-01</td>\n",
       "      <td>3498.70</td>\n",
       "    </tr>\n",
       "    <tr>\n",
       "      <th>210</th>\n",
       "      <td>2022-07-01</td>\n",
       "      <td>3350.97</td>\n",
       "    </tr>\n",
       "    <tr>\n",
       "      <th>211</th>\n",
       "      <td>2022-08-01</td>\n",
       "      <td>3506.42</td>\n",
       "    </tr>\n",
       "    <tr>\n",
       "      <th>212</th>\n",
       "      <td>2022-09-01</td>\n",
       "      <td>3778.37</td>\n",
       "    </tr>\n",
       "  </tbody>\n",
       "</table>\n",
       "<p>213 rows × 2 columns</p>\n",
       "</div>"
      ],
      "text/plain": [
       "          Date  Demanded_Gas\n",
       "0   2005-01-01       1819.58\n",
       "1   2005-02-01       1895.33\n",
       "2   2005-03-01       1765.86\n",
       "3   2005-04-01       1642.70\n",
       "4   2005-05-01       1895.54\n",
       "..         ...           ...\n",
       "208 2022-05-01       3350.03\n",
       "209 2022-06-01       3498.70\n",
       "210 2022-07-01       3350.97\n",
       "211 2022-08-01       3506.42\n",
       "212 2022-09-01       3778.37\n",
       "\n",
       "[213 rows x 2 columns]"
      ]
     },
     "execution_count": 16,
     "metadata": {},
     "output_type": "execute_result"
    }
   ],
   "source": [
    "demanda_electrico_original"
   ]
  },
  {
   "cell_type": "code",
   "execution_count": 40,
   "metadata": {},
   "outputs": [
    {
     "data": {
      "text/html": [
       "<div>\n",
       "<style scoped>\n",
       "    .dataframe tbody tr th:only-of-type {\n",
       "        vertical-align: middle;\n",
       "    }\n",
       "\n",
       "    .dataframe tbody tr th {\n",
       "        vertical-align: top;\n",
       "    }\n",
       "\n",
       "    .dataframe thead th {\n",
       "        text-align: right;\n",
       "    }\n",
       "</style>\n",
       "<table border=\"1\" class=\"dataframe\">\n",
       "  <thead>\n",
       "    <tr style=\"text-align: right;\">\n",
       "      <th></th>\n",
       "      <th>Date</th>\n",
       "      <th>Demanded_Gas</th>\n",
       "    </tr>\n",
       "  </thead>\n",
       "  <tbody>\n",
       "  </tbody>\n",
       "</table>\n",
       "</div>"
      ],
      "text/plain": [
       "Empty DataFrame\n",
       "Columns: [Date, Demanded_Gas]\n",
       "Index: []"
      ]
     },
     "execution_count": 40,
     "metadata": {},
     "output_type": "execute_result"
    }
   ],
   "source": [
    "demanda_electrico_original['Date'] = pd.to_datetime(demanda_electrico_original['Date'])\n",
    "\n",
    "# Get training and testing sets\n",
    "demanda_electrico_train_end = datetime(2021, 9, 1)\n",
    "demanda_electrico_test_end = datetime(2022, 10, 1)\n",
    "\n",
    "# Convert datetime indexers to numeric indexers\n",
    "demanda_electrico_train_end_numeric = demanda_electrico_train_end.toordinal()\n",
    "demanda_electrico_test_end_numeric = demanda_electrico_test_end.toordinal()\n",
    "\n",
    "# Split the data\n",
    "demanda_electrico_original_train_data = demanda_electrico_original[:demanda_electrico_train_end_numeric]\n",
    "demanda_electrico_original_test_data = demanda_electrico_original[demanda_electrico_train_end_numeric + 1:demanda_electrico_test_end_numeric].shift(1, fill_value=None)\n",
    "\n",
    "demanda_electrico_original_test_data\n"
   ]
  },
  {
   "cell_type": "markdown",
   "metadata": {},
   "source": [
    "The demanda_electrico_original DataFrame is a multi-index DataFrame. The Date column is one of the index levels.\n",
    "\n",
    "The shift() method is not applicable for multi-index DataFrames.\n",
    "\n",
    "To fix this, you need to remove the Date column from the index. You can do this by using the droplevel() method."
   ]
  },
  {
   "cell_type": "code",
   "execution_count": 18,
   "metadata": {},
   "outputs": [
    {
     "data": {
      "text/html": [
       "<div>\n",
       "<style scoped>\n",
       "    .dataframe tbody tr th:only-of-type {\n",
       "        vertical-align: middle;\n",
       "    }\n",
       "\n",
       "    .dataframe tbody tr th {\n",
       "        vertical-align: top;\n",
       "    }\n",
       "\n",
       "    .dataframe thead th {\n",
       "        text-align: right;\n",
       "    }\n",
       "</style>\n",
       "<table border=\"1\" class=\"dataframe\">\n",
       "  <thead>\n",
       "    <tr style=\"text-align: right;\">\n",
       "      <th></th>\n",
       "      <th>Date</th>\n",
       "      <th>Demanded_Gas</th>\n",
       "    </tr>\n",
       "  </thead>\n",
       "  <tbody>\n",
       "    <tr>\n",
       "      <th>0</th>\n",
       "      <td>2005-01-01</td>\n",
       "      <td>1819.58</td>\n",
       "    </tr>\n",
       "    <tr>\n",
       "      <th>1</th>\n",
       "      <td>2005-02-01</td>\n",
       "      <td>1895.33</td>\n",
       "    </tr>\n",
       "    <tr>\n",
       "      <th>2</th>\n",
       "      <td>2005-03-01</td>\n",
       "      <td>1765.86</td>\n",
       "    </tr>\n",
       "    <tr>\n",
       "      <th>3</th>\n",
       "      <td>2005-04-01</td>\n",
       "      <td>1642.70</td>\n",
       "    </tr>\n",
       "    <tr>\n",
       "      <th>4</th>\n",
       "      <td>2005-05-01</td>\n",
       "      <td>1895.54</td>\n",
       "    </tr>\n",
       "    <tr>\n",
       "      <th>...</th>\n",
       "      <td>...</td>\n",
       "      <td>...</td>\n",
       "    </tr>\n",
       "    <tr>\n",
       "      <th>196</th>\n",
       "      <td>2021-05-01</td>\n",
       "      <td>4243.93</td>\n",
       "    </tr>\n",
       "    <tr>\n",
       "      <th>197</th>\n",
       "      <td>2021-06-01</td>\n",
       "      <td>4985.53</td>\n",
       "    </tr>\n",
       "    <tr>\n",
       "      <th>198</th>\n",
       "      <td>2021-07-01</td>\n",
       "      <td>4631.85</td>\n",
       "    </tr>\n",
       "    <tr>\n",
       "      <th>199</th>\n",
       "      <td>2021-08-01</td>\n",
       "      <td>4098.81</td>\n",
       "    </tr>\n",
       "    <tr>\n",
       "      <th>200</th>\n",
       "      <td>2021-09-01</td>\n",
       "      <td>4424.39</td>\n",
       "    </tr>\n",
       "  </tbody>\n",
       "</table>\n",
       "<p>201 rows × 2 columns</p>\n",
       "</div>"
      ],
      "text/plain": [
       "          Date  Demanded_Gas\n",
       "0   2005-01-01       1819.58\n",
       "1   2005-02-01       1895.33\n",
       "2   2005-03-01       1765.86\n",
       "3   2005-04-01       1642.70\n",
       "4   2005-05-01       1895.54\n",
       "..         ...           ...\n",
       "196 2021-05-01       4243.93\n",
       "197 2021-06-01       4985.53\n",
       "198 2021-07-01       4631.85\n",
       "199 2021-08-01       4098.81\n",
       "200 2021-09-01       4424.39\n",
       "\n",
       "[201 rows x 2 columns]"
      ]
     },
     "execution_count": 18,
     "metadata": {},
     "output_type": "execute_result"
    }
   ],
   "source": [
    "# Number of data points to keep for testing (in this case, the last 12)\n",
    "num_test_points = 12\n",
    "\n",
    "# Split the data into training and testing sets\n",
    "demanda_electrico_original_train_data = demanda_electrico_original[:-num_test_points]\n",
    "demanda_electrico_original_test_data = demanda_electrico_original[-num_test_points:]\n",
    "\n",
    "demanda_electrico_original_train_data"
   ]
  },
  {
   "cell_type": "markdown",
   "metadata": {},
   "source": []
  },
  {
   "cell_type": "code",
   "execution_count": 27,
   "metadata": {},
   "outputs": [
    {
     "data": {
      "text/html": [
       "<div>\n",
       "<style scoped>\n",
       "    .dataframe tbody tr th:only-of-type {\n",
       "        vertical-align: middle;\n",
       "    }\n",
       "\n",
       "    .dataframe tbody tr th {\n",
       "        vertical-align: top;\n",
       "    }\n",
       "\n",
       "    .dataframe thead th {\n",
       "        text-align: right;\n",
       "    }\n",
       "</style>\n",
       "<table border=\"1\" class=\"dataframe\">\n",
       "  <thead>\n",
       "    <tr style=\"text-align: right;\">\n",
       "      <th></th>\n",
       "      <th>Date</th>\n",
       "      <th>Demanded_Gas</th>\n",
       "    </tr>\n",
       "  </thead>\n",
       "  <tbody>\n",
       "    <tr>\n",
       "      <th>0</th>\n",
       "      <td>2005-01-01</td>\n",
       "      <td>1819.58</td>\n",
       "    </tr>\n",
       "    <tr>\n",
       "      <th>1</th>\n",
       "      <td>2005-02-01</td>\n",
       "      <td>1895.33</td>\n",
       "    </tr>\n",
       "    <tr>\n",
       "      <th>2</th>\n",
       "      <td>2005-03-01</td>\n",
       "      <td>1765.86</td>\n",
       "    </tr>\n",
       "    <tr>\n",
       "      <th>3</th>\n",
       "      <td>2005-04-01</td>\n",
       "      <td>1642.70</td>\n",
       "    </tr>\n",
       "    <tr>\n",
       "      <th>4</th>\n",
       "      <td>2005-05-01</td>\n",
       "      <td>1895.54</td>\n",
       "    </tr>\n",
       "    <tr>\n",
       "      <th>...</th>\n",
       "      <td>...</td>\n",
       "      <td>...</td>\n",
       "    </tr>\n",
       "    <tr>\n",
       "      <th>196</th>\n",
       "      <td>2021-05-01</td>\n",
       "      <td>4243.93</td>\n",
       "    </tr>\n",
       "    <tr>\n",
       "      <th>197</th>\n",
       "      <td>2021-06-01</td>\n",
       "      <td>4985.53</td>\n",
       "    </tr>\n",
       "    <tr>\n",
       "      <th>198</th>\n",
       "      <td>2021-07-01</td>\n",
       "      <td>4631.85</td>\n",
       "    </tr>\n",
       "    <tr>\n",
       "      <th>199</th>\n",
       "      <td>2021-08-01</td>\n",
       "      <td>4098.81</td>\n",
       "    </tr>\n",
       "    <tr>\n",
       "      <th>200</th>\n",
       "      <td>2021-09-01</td>\n",
       "      <td>4424.39</td>\n",
       "    </tr>\n",
       "  </tbody>\n",
       "</table>\n",
       "<p>201 rows × 2 columns</p>\n",
       "</div>"
      ],
      "text/plain": [
       "          Date  Demanded_Gas\n",
       "0   2005-01-01       1819.58\n",
       "1   2005-02-01       1895.33\n",
       "2   2005-03-01       1765.86\n",
       "3   2005-04-01       1642.70\n",
       "4   2005-05-01       1895.54\n",
       "..         ...           ...\n",
       "196 2021-05-01       4243.93\n",
       "197 2021-06-01       4985.53\n",
       "198 2021-07-01       4631.85\n",
       "199 2021-08-01       4098.81\n",
       "200 2021-09-01       4424.39\n",
       "\n",
       "[201 rows x 2 columns]"
      ]
     },
     "execution_count": 27,
     "metadata": {},
     "output_type": "execute_result"
    }
   ],
   "source": [
    "import pandas as pd\n",
    "import numpy as np\n",
    "\n",
    "# Load time series data into Pandas DataFrame\n",
    "df_demanda_electrico_original_train_data = pd.DataFrame(demanda_electrico_original_train_data) \n",
    "df_demanda_electrico_original_train_data"
   ]
  },
  {
   "cell_type": "markdown",
   "metadata": {},
   "source": [
    "Se observa la distribución de probabilidad de la Demanda de gas natural en sector eléctrico \"Datos originales\" "
   ]
  },
  {
   "cell_type": "code",
   "execution_count": 31,
   "metadata": {},
   "outputs": [
    {
     "data": {
      "image/png": "[encoded data removed]",
      "text/plain": [
       "<Figure size 432x288 with 1 Axes>"
      ]
     },
     "metadata": {
      "needs_background": "light"
     },
     "output_type": "display_data"
    }
   ],
   "source": [
    "# Generate the histogram\n",
    "plt.hist(df_demanda_electrico_original_train_data['Demanded_Gas'], bins=10)  # Adjust the number of bins as per your data\n",
    "\n",
    "# Add labels and title\n",
    "plt.xlabel('Value')\n",
    "plt.ylabel('Frequency')\n",
    "plt.title('Histograma de data de Demanda de gas natural en sector eléctrico \"Datos originales\"')\n",
    "\n",
    "# Display the plot\n",
    "plt.show()"
   ]
  },
  {
   "cell_type": "markdown",
   "metadata": {},
   "source": [
    "Apliquemos un modelo ARIMA a nuestra data de Demanda de gas natural en sector eleéctrico 'Datos originales'"
   ]
  },
  {
   "cell_type": "code",
   "execution_count": 20,
   "metadata": {},
   "outputs": [
    {
     "name": "stderr",
     "output_type": "stream",
     "text": [
      "c:\\Users\\Sergio\\AppData\\Local\\Programs\\Python\\Python310\\lib\\site-packages\\statsmodels\\base\\model.py:604: ConvergenceWarning: Maximum Likelihood optimization failed to converge. Check mle_retvals\n",
      "  warnings.warn(\"Maximum Likelihood optimization failed to \"\n"
     ]
    },
    {
     "name": "stdout",
     "output_type": "stream",
     "text": [
      "Model fitting time 1.9752519130706787\n",
      "                               SARIMAX Results                                \n",
      "==============================================================================\n",
      "Dep. Variable:           Demanded_Gas   No. Observations:                  201\n",
      "Model:                 ARIMA(4, 1, 4)   Log Likelihood               -1333.392\n",
      "Date:                Wed, 06 Sep 2023   AIC                           2684.783\n",
      "Time:                        14:51:12   BIC                           2714.468\n",
      "Sample:                             0   HQIC                          2696.796\n",
      "                                - 201                                         \n",
      "Covariance Type:                  opg                                         \n",
      "==============================================================================\n",
      "                 coef    std err          z      P>|z|      [0.025      0.975]\n",
      "------------------------------------------------------------------------------\n",
      "ar.L1          0.8308      0.074     11.229      0.000       0.686       0.976\n",
      "ar.L2         -0.4263      0.067     -6.332      0.000      -0.558      -0.294\n",
      "ar.L3          0.8686      0.086     10.046      0.000       0.699       1.038\n",
      "ar.L4         -0.8465      0.054    -15.783      0.000      -0.952      -0.741\n",
      "ma.L1         -0.9958      0.087    -11.435      0.000      -1.166      -0.825\n",
      "ma.L2          0.4966      0.072      6.891      0.000       0.355       0.638\n",
      "ma.L3         -1.0714      0.094    -11.400      0.000      -1.256      -0.887\n",
      "ma.L4          0.7984      0.102      7.846      0.000       0.599       0.998\n",
      "sigma2       4.11e+04   4100.493     10.022      0.000    3.31e+04    4.91e+04\n",
      "===================================================================================\n",
      "Ljung-Box (L1) (Q):                   0.42   Jarque-Bera (JB):               513.46\n",
      "Prob(Q):                              0.52   Prob(JB):                         0.00\n",
      "Heteroskedasticity (H):               4.57   Skew:                            -1.07\n",
      "Prob(H) (two-sided):                  0.00   Kurtosis:                        10.55\n",
      "===================================================================================\n",
      "\n",
      "Warnings:\n",
      "[1] Covariance matrix calculated using the outer product of gradients (complex-step).\n"
     ]
    }
   ],
   "source": [
    "\n",
    "##Create the model\n",
    "model_ARIMA_electrico = ARIMA (demanda_electrico_original_train_data['Demanded_Gas'], order=(4,1,4))\n",
    "\n",
    "##Fit the model\n",
    "start = time()\n",
    "model_ARIMA_electrico_original_fit = model_ARIMA_electrico.fit()\n",
    "end = time()\n",
    "print('Model fitting time', end-start)\n",
    "\n",
    "##Summary of the model \n",
    "print(model_ARIMA_electrico_original_fit.summary())\n"
   ]
  },
  {
   "cell_type": "markdown",
   "metadata": {},
   "source": [
    "Hagamos predicciones con el modelo ARIMA para la Demanda de gas natural en sector eleéctrico 'Datos originales'"
   ]
  },
  {
   "cell_type": "code",
   "execution_count": 21,
   "metadata": {},
   "outputs": [
    {
     "name": "stdout",
     "output_type": "stream",
     "text": [
      "201    4116.760353\n",
      "202    3938.306019\n",
      "203    4073.956534\n",
      "204    3890.889753\n",
      "205    3786.363557\n",
      "206    4046.456309\n",
      "207    4033.246030\n",
      "208    3975.558960\n",
      "209    4247.672609\n",
      "210    4266.689838\n",
      "211    4127.559924\n",
      "212    4289.069773\n",
      "Name: predicted_mean, dtype: float64\n"
     ]
    }
   ],
   "source": [
    "##get prediction start and end dates \n",
    "pred_model_ARIMA_electrico_start_date = demanda_electrico_original_test_data.index[0]\n",
    "pred_model_ARIMA_electrico_end_date = demanda_electrico_original_test_data.index[-1]\n",
    "\n",
    "##get the predictors and residuals \n",
    "predictions_model_ARIMA_electrico_original = model_ARIMA_electrico_original_fit.predict(start=pred_model_ARIMA_electrico_start_date, end= pred_model_ARIMA_electrico_end_date)\n",
    "print(predictions_model_ARIMA_electrico_original)"
   ]
  },
  {
   "cell_type": "code",
   "execution_count": 24,
   "metadata": {},
   "outputs": [
    {
     "data": {
      "text/plain": [
       "Text(0, 0.5, 'Demanda [MMpcd]')"
      ]
     },
     "execution_count": 24,
     "metadata": {},
     "output_type": "execute_result"
    },
    {
     "data": {
      "image/png": "[encoded data removed]",
      "text/plain": [
       "<Figure size 720x288 with 1 Axes>"
      ]
     },
     "metadata": {
      "needs_background": "light"
     },
     "output_type": "display_data"
    }
   ],
   "source": [
    "##Ploting the predicitons vs the test_data\n",
    "plt.figure(figsize =(10,4))\n",
    "plt.plot(demanda_electrico_original_test_data['Demanded_Gas'])\n",
    "plt.plot(predictions_model_ARIMA_electrico_original)\n",
    "plt.legend(('Data', 'Predictions'), fontsize=16)\n",
    "\n",
    "plt.title('Demanda sector electrico \"datos originales\" test_data & prediciones con modelo ARIMA(4,1,4)', fontsize=20)\n",
    "plt.ylabel('Demanda [MMpcd]', fontsize=16)"
   ]
  },
  {
   "cell_type": "markdown",
   "metadata": {},
   "source": [
    "Cuantificando el error de las predicciones con el modelo ARIMA para la Demanda de gas natural en sector eleéctrico 'Datos originales'"
   ]
  },
  {
   "cell_type": "code",
   "execution_count": 25,
   "metadata": {},
   "outputs": [
    {
     "name": "stdout",
     "output_type": "stream",
     "text": [
      "MAPE: 0.16739974297359148\n",
      "RMSE: 388916.9746647975\n"
     ]
    }
   ],
   "source": [
    "from sklearn.metrics import mean_absolute_percentage_error, mean_squared_error\n",
    "\n",
    "# Compute errors\n",
    "MAPE_predictions_model_ARIMA_electrico_original = mean_absolute_percentage_error(demanda_electrico_original_test_data['Demanded_Gas'], predictions_model_ARIMA_electrico_original)\n",
    "RMSE_predictions_model_ARIMA_electrico_original = mean_squared_error(demanda_electrico_original_test_data['Demanded_Gas'], predictions_model_ARIMA_electrico_original)\n",
    "\n",
    "print('MAPE:', MAPE_predictions_model_ARIMA_electrico_original)\n",
    "print('RMSE:', RMSE_predictions_model_ARIMA_electrico_original)"
   ]
  },
  {
   "cell_type": "markdown",
   "metadata": {},
   "source": [
    "### Proceso de AJUSTE de datos para mejora de modelos ARIMA "
   ]
  },
  {
   "cell_type": "code",
   "execution_count": 18,
   "metadata": {},
   "outputs": [],
   "source": [
    "import pandas as pd\n",
    "\n",
    "def remove_replace_outliers(data):\n",
    "    # Calculate Q1 and Q3\n",
    "    Q1 = data.quantile(0.25)\n",
    "    Q3 = data.quantile(0.75)\n",
    "    IQR = Q3 - Q1\n",
    "\n",
    "    # Identify outliers\n",
    "    outliers_mask = (data < (Q1 - 1.3 * IQR)) | (data > (Q3 + 1.3 * IQR))\n",
    "\n",
    "    # Calculate the historical mean excluding outliers\n",
    "    historical_mean = data[~outliers_mask].mean()\n",
    "\n",
    "    # Replace outliers with historical mean\n",
    "    data.loc[outliers_mask] = historical_mean\n",
    "\n",
    "    return data\n",
    "\n"
   ]
  },
  {
   "cell_type": "code",
   "execution_count": 19,
   "metadata": {},
   "outputs": [
    {
     "name": "stderr",
     "output_type": "stream",
     "text": [
      "C:\\Users\\llell\\AppData\\Local\\Temp\\ipykernel_32220\\612675990.py:16: SettingWithCopyWarning: \n",
      "A value is trying to be set on a copy of a slice from a DataFrame\n",
      "\n",
      "See the caveats in the documentation: https://pandas.pydata.org/pandas-docs/stable/user_guide/indexing.html#returning-a-view-versus-a-copy\n",
      "  data.loc[outliers_mask] = historical_mean\n",
      "C:\\Users\\llell\\AppData\\Local\\Temp\\ipykernel_32220\\2306509058.py:2: SettingWithCopyWarning: \n",
      "A value is trying to be set on a copy of a slice from a DataFrame.\n",
      "Try using .loc[row_indexer,col_indexer] = value instead\n",
      "\n",
      "See the caveats in the documentation: https://pandas.pydata.org/pandas-docs/stable/user_guide/indexing.html#returning-a-view-versus-a-copy\n",
      "  demanda_electrico_train_data[column_name] = remove_replace_outliers(demanda_electrico_train_data[column_name])\n"
     ]
    }
   ],
   "source": [
    "column_name = 'Demanded_Gas'  # Replace with your actual column name\n",
    "demanda_electrico_train_data[column_name] = remove_replace_outliers(demanda_electrico_train_data[column_name])\n"
   ]
  },
  {
   "cell_type": "code",
   "execution_count": 20,
   "metadata": {},
   "outputs": [
    {
     "data": {
      "text/html": [
       "<div>\n",
       "<style scoped>\n",
       "    .dataframe tbody tr th:only-of-type {\n",
       "        vertical-align: middle;\n",
       "    }\n",
       "\n",
       "    .dataframe tbody tr th {\n",
       "        vertical-align: top;\n",
       "    }\n",
       "\n",
       "    .dataframe thead th {\n",
       "        text-align: right;\n",
       "    }\n",
       "</style>\n",
       "<table border=\"1\" class=\"dataframe\">\n",
       "  <thead>\n",
       "    <tr style=\"text-align: right;\">\n",
       "      <th></th>\n",
       "      <th>Demanded_Gas</th>\n",
       "    </tr>\n",
       "    <tr>\n",
       "      <th>Date</th>\n",
       "      <th></th>\n",
       "    </tr>\n",
       "  </thead>\n",
       "  <tbody>\n",
       "    <tr>\n",
       "      <th>2005-01-01</th>\n",
       "      <td>1819.580000</td>\n",
       "    </tr>\n",
       "    <tr>\n",
       "      <th>2005-02-01</th>\n",
       "      <td>1895.330000</td>\n",
       "    </tr>\n",
       "    <tr>\n",
       "      <th>2005-03-01</th>\n",
       "      <td>1765.860000</td>\n",
       "    </tr>\n",
       "    <tr>\n",
       "      <th>2005-04-01</th>\n",
       "      <td>1642.700000</td>\n",
       "    </tr>\n",
       "    <tr>\n",
       "      <th>2005-05-01</th>\n",
       "      <td>1895.540000</td>\n",
       "    </tr>\n",
       "    <tr>\n",
       "      <th>...</th>\n",
       "      <td>...</td>\n",
       "    </tr>\n",
       "    <tr>\n",
       "      <th>2021-05-01</th>\n",
       "      <td>4243.930000</td>\n",
       "    </tr>\n",
       "    <tr>\n",
       "      <th>2021-06-01</th>\n",
       "      <td>2938.417969</td>\n",
       "    </tr>\n",
       "    <tr>\n",
       "      <th>2021-07-01</th>\n",
       "      <td>2938.417969</td>\n",
       "    </tr>\n",
       "    <tr>\n",
       "      <th>2021-08-01</th>\n",
       "      <td>4098.810000</td>\n",
       "    </tr>\n",
       "    <tr>\n",
       "      <th>2021-09-01</th>\n",
       "      <td>2938.417969</td>\n",
       "    </tr>\n",
       "  </tbody>\n",
       "</table>\n",
       "<p>201 rows × 1 columns</p>\n",
       "</div>"
      ],
      "text/plain": [
       "            Demanded_Gas\n",
       "Date                    \n",
       "2005-01-01   1819.580000\n",
       "2005-02-01   1895.330000\n",
       "2005-03-01   1765.860000\n",
       "2005-04-01   1642.700000\n",
       "2005-05-01   1895.540000\n",
       "...                  ...\n",
       "2021-05-01   4243.930000\n",
       "2021-06-01   2938.417969\n",
       "2021-07-01   2938.417969\n",
       "2021-08-01   4098.810000\n",
       "2021-09-01   2938.417969\n",
       "\n",
       "[201 rows x 1 columns]"
      ]
     },
     "execution_count": 20,
     "metadata": {},
     "output_type": "execute_result"
    }
   ],
   "source": [
    "demanda_electrico_train_data"
   ]
  },
  {
   "cell_type": "markdown",
   "metadata": {},
   "source": []
  },
  {
   "cell_type": "code",
   "execution_count": 21,
   "metadata": {},
   "outputs": [
    {
     "name": "stderr",
     "output_type": "stream",
     "text": [
      "c:\\Users\\llell\\AppData\\Local\\Programs\\Python\\Python310\\lib\\site-packages\\statsmodels\\tsa\\base\\tsa_model.py:471: ValueWarning: No frequency information was provided, so inferred frequency MS will be used.\n",
      "  self._init_dates(dates, freq)\n",
      "c:\\Users\\llell\\AppData\\Local\\Programs\\Python\\Python310\\lib\\site-packages\\statsmodels\\tsa\\base\\tsa_model.py:471: ValueWarning: No frequency information was provided, so inferred frequency MS will be used.\n",
      "  self._init_dates(dates, freq)\n",
      "c:\\Users\\llell\\AppData\\Local\\Programs\\Python\\Python310\\lib\\site-packages\\statsmodels\\tsa\\base\\tsa_model.py:471: ValueWarning: No frequency information was provided, so inferred frequency MS will be used.\n",
      "  self._init_dates(dates, freq)\n",
      "c:\\Users\\llell\\AppData\\Local\\Programs\\Python\\Python310\\lib\\site-packages\\statsmodels\\tsa\\statespace\\sarimax.py:966: UserWarning: Non-stationary starting autoregressive parameters found. Using zeros as starting parameters.\n",
      "  warn('Non-stationary starting autoregressive parameters'\n",
      "c:\\Users\\llell\\AppData\\Local\\Programs\\Python\\Python310\\lib\\site-packages\\statsmodels\\tsa\\statespace\\sarimax.py:978: UserWarning: Non-invertible starting MA parameters found. Using zeros as starting parameters.\n",
      "  warn('Non-invertible starting MA parameters found.'\n"
     ]
    },
    {
     "name": "stdout",
     "output_type": "stream",
     "text": [
      "Model fitting time 0.5481588840484619\n",
      "                               SARIMAX Results                                \n",
      "==============================================================================\n",
      "Dep. Variable:           Demanded_Gas   No. Observations:                  201\n",
      "Model:                 ARIMA(4, 1, 4)   Log Likelihood               -1406.998\n",
      "Date:                Tue, 05 Sep 2023   AIC                           2831.995\n",
      "Time:                        19:51:56   BIC                           2861.680\n",
      "Sample:                    01-01-2005   HQIC                          2844.008\n",
      "                         - 09-01-2021                                         \n",
      "Covariance Type:                  opg                                         \n",
      "==============================================================================\n",
      "                 coef    std err          z      P>|z|      [0.025      0.975]\n",
      "------------------------------------------------------------------------------\n",
      "ar.L1         -0.2314      0.084     -2.739      0.006      -0.397      -0.066\n",
      "ar.L2         -0.3498      0.063     -5.523      0.000      -0.474      -0.226\n",
      "ar.L3         -0.5556      0.085     -6.541      0.000      -0.722      -0.389\n",
      "ar.L4          0.5230      0.077      6.809      0.000       0.372       0.674\n",
      "ma.L1         -0.2628      0.070     -3.730      0.000      -0.401      -0.125\n",
      "ma.L2          0.1035      0.109      0.951      0.341      -0.110       0.317\n",
      "ma.L3          0.3211      0.078      4.096      0.000       0.167       0.475\n",
      "ma.L4         -0.8622      0.086    -10.003      0.000      -1.031      -0.693\n",
      "sigma2      6.181e+04   6247.470      9.894      0.000    4.96e+04    7.41e+04\n",
      "===================================================================================\n",
      "Ljung-Box (L1) (Q):                   0.09   Jarque-Bera (JB):               156.95\n",
      "Prob(Q):                              0.76   Prob(JB):                         0.00\n",
      "Heteroskedasticity (H):               2.34   Skew:                            -0.27\n",
      "Prob(H) (two-sided):                  0.00   Kurtosis:                         7.31\n",
      "===================================================================================\n",
      "\n",
      "Warnings:\n",
      "[1] Covariance matrix calculated using the outer product of gradients (complex-step).\n"
     ]
    },
    {
     "name": "stderr",
     "output_type": "stream",
     "text": [
      "c:\\Users\\llell\\AppData\\Local\\Programs\\Python\\Python310\\lib\\site-packages\\statsmodels\\base\\model.py:604: ConvergenceWarning: Maximum Likelihood optimization failed to converge. Check mle_retvals\n",
      "  warnings.warn(\"Maximum Likelihood optimization failed to \"\n"
     ]
    }
   ],
   "source": [
    "\n",
    "##Create the model\n",
    "model_ARIMA_electrico = ARIMA (demanda_electrico_train_data, order=(4,1,4))\n",
    "\n",
    "##Fit the model\n",
    "start = time()\n",
    "model_ARIMA_electrico_fit = model_ARIMA_electrico.fit()\n",
    "end = time()\n",
    "print('Model fitting time', end-start)\n",
    "\n",
    "##Summary of the model \n",
    "print(model_ARIMA_electrico_fit.summary())\n"
   ]
  },
  {
   "cell_type": "markdown",
   "metadata": {},
   "source": []
  },
  {
   "cell_type": "code",
   "execution_count": 22,
   "metadata": {},
   "outputs": [
    {
     "data": {
      "text/html": [
       "<div>\n",
       "<style scoped>\n",
       "    .dataframe tbody tr th:only-of-type {\n",
       "        vertical-align: middle;\n",
       "    }\n",
       "\n",
       "    .dataframe tbody tr th {\n",
       "        vertical-align: top;\n",
       "    }\n",
       "\n",
       "    .dataframe thead th {\n",
       "        text-align: right;\n",
       "    }\n",
       "</style>\n",
       "<table border=\"1\" class=\"dataframe\">\n",
       "  <thead>\n",
       "    <tr style=\"text-align: right;\">\n",
       "      <th></th>\n",
       "      <th>Demanded_Gas</th>\n",
       "    </tr>\n",
       "    <tr>\n",
       "      <th>Date</th>\n",
       "      <th></th>\n",
       "    </tr>\n",
       "  </thead>\n",
       "  <tbody>\n",
       "    <tr>\n",
       "      <th>2021-10-01</th>\n",
       "      <td>4417.51</td>\n",
       "    </tr>\n",
       "    <tr>\n",
       "      <th>2021-11-01</th>\n",
       "      <td>4557.36</td>\n",
       "    </tr>\n",
       "    <tr>\n",
       "      <th>2021-12-01</th>\n",
       "      <td>4538.89</td>\n",
       "    </tr>\n",
       "    <tr>\n",
       "      <th>2022-01-01</th>\n",
       "      <td>3320.75</td>\n",
       "    </tr>\n",
       "    <tr>\n",
       "      <th>2022-02-01</th>\n",
       "      <td>3449.80</td>\n",
       "    </tr>\n",
       "    <tr>\n",
       "      <th>2022-03-01</th>\n",
       "      <td>3206.96</td>\n",
       "    </tr>\n",
       "    <tr>\n",
       "      <th>2022-04-01</th>\n",
       "      <td>3403.44</td>\n",
       "    </tr>\n",
       "    <tr>\n",
       "      <th>2022-05-01</th>\n",
       "      <td>3350.03</td>\n",
       "    </tr>\n",
       "    <tr>\n",
       "      <th>2022-06-01</th>\n",
       "      <td>3498.70</td>\n",
       "    </tr>\n",
       "    <tr>\n",
       "      <th>2022-07-01</th>\n",
       "      <td>3350.97</td>\n",
       "    </tr>\n",
       "    <tr>\n",
       "      <th>2022-08-01</th>\n",
       "      <td>3506.42</td>\n",
       "    </tr>\n",
       "    <tr>\n",
       "      <th>2022-09-01</th>\n",
       "      <td>3778.37</td>\n",
       "    </tr>\n",
       "  </tbody>\n",
       "</table>\n",
       "</div>"
      ],
      "text/plain": [
       "            Demanded_Gas\n",
       "Date                    \n",
       "2021-10-01       4417.51\n",
       "2021-11-01       4557.36\n",
       "2021-12-01       4538.89\n",
       "2022-01-01       3320.75\n",
       "2022-02-01       3449.80\n",
       "2022-03-01       3206.96\n",
       "2022-04-01       3403.44\n",
       "2022-05-01       3350.03\n",
       "2022-06-01       3498.70\n",
       "2022-07-01       3350.97\n",
       "2022-08-01       3506.42\n",
       "2022-09-01       3778.37"
      ]
     },
     "execution_count": 22,
     "metadata": {},
     "output_type": "execute_result"
    }
   ],
   "source": [
    "demanda_electrico_test_data"
   ]
  },
  {
   "cell_type": "code",
   "execution_count": 23,
   "metadata": {},
   "outputs": [],
   "source": [
    "\n",
    "# Get prediction start and end dates\n",
    "pred_model_ARIMA_electrico_start_date = demanda_electrico_test_data.index[0]\n",
    "pred_model_ARIMA_electrico_end_date = demanda_electrico_test_data.index[-1]\n"
   ]
  },
  {
   "cell_type": "code",
   "execution_count": 24,
   "metadata": {},
   "outputs": [
    {
     "data": {
      "text/plain": [
       "Timestamp('2022-09-01 00:00:00')"
      ]
     },
     "execution_count": 24,
     "metadata": {},
     "output_type": "execute_result"
    }
   ],
   "source": [
    "pred_model_ARIMA_electrico_end_date"
   ]
  },
  {
   "cell_type": "code",
   "execution_count": 25,
   "metadata": {},
   "outputs": [
    {
     "data": {
      "text/plain": [
       "2021-10-01    2996.071321\n",
       "2021-11-01    3203.322603\n",
       "2021-12-01    3712.123998\n",
       "2022-01-01    3464.980177\n",
       "2022-02-01    3259.192607\n",
       "2022-03-01    3218.966304\n",
       "2022-04-01    3703.654850\n",
       "2022-05-01    3590.667005\n",
       "2022-06-01    3361.992462\n",
       "2022-07-01    3164.104828\n",
       "2022-08-01    3606.131810\n",
       "2022-09-01    3641.039215\n",
       "Freq: MS, Name: predicted_mean, dtype: float64"
      ]
     },
     "execution_count": 25,
     "metadata": {},
     "output_type": "execute_result"
    }
   ],
   "source": [
    "# Get the predictors and residuals\n",
    "predictions_model_ARIMA_electrico = model_ARIMA_electrico_fit.predict(\n",
    "    start=pred_model_ARIMA_electrico_start_date,\n",
    "    end=pred_model_ARIMA_electrico_end_date,\n",
    "    typ='levels'  # You can specify the type of prediction you want\n",
    ")\n",
    "\n",
    "predictions_model_ARIMA_electrico"
   ]
  },
  {
   "cell_type": "code",
   "execution_count": 26,
   "metadata": {},
   "outputs": [
    {
     "data": {
      "text/plain": [
       "Text(0, 0.5, 'Demanda [MMpcd]')"
      ]
     },
     "execution_count": 26,
     "metadata": {},
     "output_type": "execute_result"
    },
    {
     "data": {
      "image/png": "[encoded data removed]",
      "text/plain": [
       "<Figure size 720x288 with 1 Axes>"
      ]
     },
     "metadata": {
      "needs_background": "light"
     },
     "output_type": "display_data"
    }
   ],
   "source": [
    "\n",
    "##Ploting the predicitons vs the test_data\n",
    "plt.figure(figsize =(10,4))\n",
    "plt.plot(demanda_electrico_test_data)\n",
    "plt.plot(predictions_model_ARIMA_electrico)\n",
    "plt.legend(('Data', 'Predictions'), fontsize=16)\n",
    "\n",
    "plt.title('Demanda sector electrico test_data & predicitons ARIMA(4,1,4) model', fontsize=20)\n",
    "plt.ylabel('Demanda [MMpcd]', fontsize=16)"
   ]
  }
 ],
 "metadata": {
  "kernelspec": {
   "display_name": "Python 3",
   "language": "python",
   "name": "python3"
  },
  "language_info": {
   "codemirror_mode": {
    "name": "ipython",
    "version": 3
   },
   "file_extension": ".py",
   "mimetype": "text/x-python",
   "name": "python",
   "nbconvert_exporter": "python",
   "pygments_lexer": "ipython3",
   "version": "3.10.5"
  },
  "orig_nbformat": 4
 },
 "nbformat": 4,
 "nbformat_minor": 2
}
