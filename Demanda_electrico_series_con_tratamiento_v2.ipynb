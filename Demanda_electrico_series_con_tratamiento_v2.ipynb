{
 "cells": [
  {
   "cell_type": "markdown",
   "metadata": {},
   "source": [
    "## MODELOS DE SERIES DE TIMPO PARA DEMANDA DE GAS NATURAL EN SECTOR ELÉCTRICO EN MÉXICO "
   ]
  },
  {
   "cell_type": "code",
   "execution_count": 49,
   "metadata": {},
   "outputs": [],
   "source": [
    "import pandas as pd\n",
    "import numpy as np\n",
    "import matplotlib.pyplot as plt\n",
    "from pandas.plotting import register_matplotlib_converters\n",
    "from statsmodels.graphics.tsaplots import plot_acf, plot_pacf\n",
    "from statsmodels.tsa.stattools import acf, pacf\n",
    "from statsmodels.tsa.arima.model import ARIMA\n",
    "from sympy import true\n",
    "from datetime import datetime, timedelta\n",
    "register_matplotlib_converters()\n",
    "from time import time \n"
   ]
  },
  {
   "cell_type": "markdown",
   "metadata": {},
   "source": [
    "Vamos a leer el csv de Demanda en sector eléctrico"
   ]
  },
  {
   "cell_type": "code",
   "execution_count": 62,
   "metadata": {},
   "outputs": [
    {
     "data": {
      "text/html": [
       "<div>\n",
       "<style scoped>\n",
       "    .dataframe tbody tr th:only-of-type {\n",
       "        vertical-align: middle;\n",
       "    }\n",
       "\n",
       "    .dataframe tbody tr th {\n",
       "        vertical-align: top;\n",
       "    }\n",
       "\n",
       "    .dataframe thead th {\n",
       "        text-align: right;\n",
       "    }\n",
       "</style>\n",
       "<table border=\"1\" class=\"dataframe\">\n",
       "  <thead>\n",
       "    <tr style=\"text-align: right;\">\n",
       "      <th></th>\n",
       "      <th>Date</th>\n",
       "      <th>Demanded_Gas</th>\n",
       "    </tr>\n",
       "  </thead>\n",
       "  <tbody>\n",
       "    <tr>\n",
       "      <th>0</th>\n",
       "      <td>2005-01-01</td>\n",
       "      <td>1819.58</td>\n",
       "    </tr>\n",
       "    <tr>\n",
       "      <th>1</th>\n",
       "      <td>2005-02-01</td>\n",
       "      <td>1895.33</td>\n",
       "    </tr>\n",
       "    <tr>\n",
       "      <th>2</th>\n",
       "      <td>2005-03-01</td>\n",
       "      <td>1765.86</td>\n",
       "    </tr>\n",
       "    <tr>\n",
       "      <th>3</th>\n",
       "      <td>2005-04-01</td>\n",
       "      <td>1642.70</td>\n",
       "    </tr>\n",
       "    <tr>\n",
       "      <th>4</th>\n",
       "      <td>2005-05-01</td>\n",
       "      <td>1895.54</td>\n",
       "    </tr>\n",
       "    <tr>\n",
       "      <th>...</th>\n",
       "      <td>...</td>\n",
       "      <td>...</td>\n",
       "    </tr>\n",
       "    <tr>\n",
       "      <th>208</th>\n",
       "      <td>2022-05-01</td>\n",
       "      <td>3350.03</td>\n",
       "    </tr>\n",
       "    <tr>\n",
       "      <th>209</th>\n",
       "      <td>2022-06-01</td>\n",
       "      <td>3498.70</td>\n",
       "    </tr>\n",
       "    <tr>\n",
       "      <th>210</th>\n",
       "      <td>2022-07-01</td>\n",
       "      <td>3350.97</td>\n",
       "    </tr>\n",
       "    <tr>\n",
       "      <th>211</th>\n",
       "      <td>2022-08-01</td>\n",
       "      <td>3506.42</td>\n",
       "    </tr>\n",
       "    <tr>\n",
       "      <th>212</th>\n",
       "      <td>2022-09-01</td>\n",
       "      <td>3778.37</td>\n",
       "    </tr>\n",
       "  </tbody>\n",
       "</table>\n",
       "<p>213 rows × 2 columns</p>\n",
       "</div>"
      ],
      "text/plain": [
       "          Date  Demanded_Gas\n",
       "0   2005-01-01       1819.58\n",
       "1   2005-02-01       1895.33\n",
       "2   2005-03-01       1765.86\n",
       "3   2005-04-01       1642.70\n",
       "4   2005-05-01       1895.54\n",
       "..         ...           ...\n",
       "208 2022-05-01       3350.03\n",
       "209 2022-06-01       3498.70\n",
       "210 2022-07-01       3350.97\n",
       "211 2022-08-01       3506.42\n",
       "212 2022-09-01       3778.37\n",
       "\n",
       "[213 rows x 2 columns]"
      ]
     },
     "execution_count": 62,
     "metadata": {},
     "output_type": "execute_result"
    }
   ],
   "source": [
    "demanda_electrico_xls = pd.read_excel(R'Demanda_electrico_2022_full1.xlsx')\n",
    "demanda_electrico_xls"
   ]
  },
  {
   "cell_type": "code",
   "execution_count": 51,
   "metadata": {},
   "outputs": [
    {
     "data": {
      "text/plain": [
       "Index(['Date', 'Demanded_Gas'], dtype='object')"
      ]
     },
     "execution_count": 51,
     "metadata": {},
     "output_type": "execute_result"
    }
   ],
   "source": [
    "demanda_electrico_xls.columns"
   ]
  },
  {
   "cell_type": "code",
   "execution_count": 52,
   "metadata": {},
   "outputs": [
    {
     "data": {
      "text/plain": [
       "0      1819.58\n",
       "1      1895.33\n",
       "2      1765.86\n",
       "3      1642.70\n",
       "4      1895.54\n",
       "        ...   \n",
       "208    3350.03\n",
       "209    3498.70\n",
       "210    3350.97\n",
       "211    3506.42\n",
       "212    3778.37\n",
       "Name: Demanded_Gas, Length: 213, dtype: float64"
      ]
     },
     "execution_count": 52,
     "metadata": {},
     "output_type": "execute_result"
    }
   ],
   "source": [
    "demanda_electrico_xls_demanded_gas = demanda_electrico_xls['Demanded_Gas']\n",
    "demanda_electrico_xls_demanded_gas"
   ]
  },
  {
   "cell_type": "markdown",
   "metadata": {},
   "source": [
    "Vamos a graficar los datos de demanda eléctrico desde 2005 hasta 2022"
   ]
  },
  {
   "cell_type": "code",
   "execution_count": 53,
   "metadata": {},
   "outputs": [
    {
     "data": {
      "text/plain": [
       "Text(0, 0.5, 'Demanda [MMpcd]')"
      ]
     },
     "execution_count": 53,
     "metadata": {},
     "output_type": "execute_result"
    },
    {
     "data": {
      "image/png": "[encoded data removed]",
      "text/plain": [
       "<Figure size 720x288 with 1 Axes>"
      ]
     },
     "metadata": {
      "needs_background": "light"
     },
     "output_type": "display_data"
    }
   ],
   "source": [
    "plt.figure(figsize=(10,4))\n",
    "plt.plot(demanda_electrico_xls_demanded_gas)\n",
    "plt.title('Demanda de gas natural en el sector electrico en México', fontsize=20)\n",
    "plt.ylabel('Demanda [MMpcd]', fontsize =16)"
   ]
  },
  {
   "cell_type": "markdown",
   "metadata": {},
   "source": [
    "Se elaboran las gráficas de ACF y PACF de la Demanda de gas natural en el sector eléctrico en México"
   ]
  },
  {
   "cell_type": "code",
   "execution_count": 54,
   "metadata": {},
   "outputs": [
    {
     "data": {
      "image/png": "[encoded data removed]",
      "text/plain": [
       "<Figure size 432x288 with 1 Axes>"
      ]
     },
     "metadata": {
      "needs_background": "light"
     },
     "output_type": "display_data"
    }
   ],
   "source": [
    "import statsmodels.graphics.tsaplots as tsaplot\n",
    "# Create the Matplotlib axes object\n",
    "fig, ax = plt.subplots()\n",
    "\n",
    "# Plot the ACF\n",
    "tsaplot.plot_acf(demanda_electrico_xls_demanded_gas.dropna(), ax=ax)\n",
    "\n",
    "# Set the title\n",
    "ax.set_title(\"Función de Autocorrelacón para demanda de gas natural en sector eleéctrico\")\n",
    "\n",
    "# Show the plot\n",
    "plt.show()"
   ]
  },
  {
   "cell_type": "code",
   "execution_count": 55,
   "metadata": {},
   "outputs": [
    {
     "name": "stderr",
     "output_type": "stream",
     "text": [
      "c:\\Users\\llell\\AppData\\Local\\Programs\\Python\\Python310\\lib\\site-packages\\statsmodels\\graphics\\tsaplots.py:348: FutureWarning: The default method 'yw' can produce PACF values outside of the [-1,1] interval. After 0.13, the default will change tounadjusted Yule-Walker ('ywm'). You can use this method now by setting method='ywm'.\n",
      "  warnings.warn(\n"
     ]
    },
    {
     "data": {
      "image/png": "[encoded data removed]",
      "text/plain": [
       "<Figure size 432x288 with 1 Axes>"
      ]
     },
     "metadata": {
      "needs_background": "light"
     },
     "output_type": "display_data"
    }
   ],
   "source": [
    "import statsmodels.graphics.tsaplots as tsaplot\n",
    "# Create the Matplotlib axes object\n",
    "fig, ax = plt.subplots()\n",
    "\n",
    "# Plot the ACF\n",
    "tsaplot.plot_pacf(demanda_electrico_xls_demanded_gas.dropna(), ax=ax)\n",
    "\n",
    "# Set the title\n",
    "ax.set_title(\"Función de Autocorrelacón Parcial para demanda de gas natural en sector eleéctrico\")\n",
    "\n",
    "# Show the plot\n",
    "plt.show()"
   ]
  },
  {
   "cell_type": "markdown",
   "metadata": {},
   "source": [
    "Se procede entonces a diferenciar la serie para lograr estacionariedad "
   ]
  },
  {
   "cell_type": "code",
   "execution_count": 56,
   "metadata": {},
   "outputs": [
    {
     "data": {
      "text/plain": [
       "0         NaN\n",
       "1       75.75\n",
       "2     -129.47\n",
       "3     -123.16\n",
       "4      252.84\n",
       "        ...  \n",
       "208    -53.41\n",
       "209    148.67\n",
       "210   -147.73\n",
       "211    155.45\n",
       "212    271.95\n",
       "Name: Demanded_Gas, Length: 213, dtype: float64"
      ]
     },
     "execution_count": 56,
     "metadata": {},
     "output_type": "execute_result"
    }
   ],
   "source": [
    "demanda_electrico_xls_demanded_gas_diff1 = demanda_electrico_xls_demanded_gas.diff()\n",
    "demanda_electrico_xls_demanded_gas_diff1"
   ]
  },
  {
   "cell_type": "markdown",
   "metadata": {},
   "source": [
    "Se grafica la diferencia de demanda en el sector eléctrico "
   ]
  },
  {
   "cell_type": "code",
   "execution_count": 57,
   "metadata": {},
   "outputs": [
    {
     "data": {
      "text/plain": [
       "Text(0, 0.5, ' Diferencia Demanda [MMpcd]')"
      ]
     },
     "execution_count": 57,
     "metadata": {},
     "output_type": "execute_result"
    },
    {
     "data": {
      "image/png": "[encoded data removed]",
      "text/plain": [
       "<Figure size 720x288 with 1 Axes>"
      ]
     },
     "metadata": {
      "needs_background": "light"
     },
     "output_type": "display_data"
    }
   ],
   "source": [
    "plt.figure(figsize=(10,4))\n",
    "plt.plot(demanda_electrico_xls_demanded_gas_diff1)\n",
    "plt.title('DIFERENCIA de Demanda de gas natural en el sector eléctrico en México', fontsize=18)\n",
    "plt.ylabel(' Diferencia Demanda [MMpcd]', fontsize =15)"
   ]
  },
  {
   "cell_type": "markdown",
   "metadata": {},
   "source": [
    "Se elaboran las gráficas de ACF y PACF de la DIFERENCIA de Demanda de gas natural en el sector eléctrico en México"
   ]
  },
  {
   "cell_type": "code",
   "execution_count": 58,
   "metadata": {},
   "outputs": [
    {
     "data": {
      "image/png": "[encoded data removed]",
      "text/plain": [
       "<Figure size 432x288 with 1 Axes>"
      ]
     },
     "metadata": {
      "needs_background": "light"
     },
     "output_type": "display_data"
    }
   ],
   "source": [
    "import statsmodels.graphics.tsaplots as tsaplot\n",
    "# Create the Matplotlib axes object\n",
    "fig, ax = plt.subplots()\n",
    "\n",
    "# Plot the ACF\n",
    "tsaplot.plot_acf(demanda_electrico_xls_demanded_gas_diff1.dropna(), ax=ax)\n",
    "\n",
    "# Set the title\n",
    "ax.set_title(\"Función de Autocorrelacón para demanda de gas natural en sector eleéctrico DIFERENCIADA\")\n",
    "\n",
    "# Show the plot\n",
    "plt.show()"
   ]
  },
  {
   "cell_type": "code",
   "execution_count": 59,
   "metadata": {},
   "outputs": [
    {
     "data": {
      "image/png": "[encoded data removed]",
      "text/plain": [
       "<Figure size 432x288 with 1 Axes>"
      ]
     },
     "metadata": {
      "needs_background": "light"
     },
     "output_type": "display_data"
    }
   ],
   "source": [
    "import statsmodels.graphics.tsaplots as tsaplot\n",
    "# Create the Matplotlib axes object\n",
    "fig, ax = plt.subplots()\n",
    "\n",
    "# Plot the ACF\n",
    "tsaplot.plot_pacf(demanda_electrico_xls_demanded_gas_diff1.dropna(), ax=ax)\n",
    "\n",
    "# Set the title\n",
    "ax.set_title(\"Función de Autocorrelacón Parcial para demanda de gas natural en sector eleéctrico DIFERENCIADA\")\n",
    "\n",
    "# Show the plot\n",
    "plt.show()"
   ]
  },
  {
   "cell_type": "markdown",
   "metadata": {},
   "source": [
    "Separamos la Demanda de gas natural en el sector eléctrico en data de train y test"
   ]
  },
  {
   "cell_type": "code",
   "execution_count": 64,
   "metadata": {},
   "outputs": [],
   "source": [
    "demanda_electrico_xls.set_index('Date', inplace=True)"
   ]
  },
  {
   "cell_type": "code",
   "execution_count": 65,
   "metadata": {},
   "outputs": [
    {
     "data": {
      "text/html": [
       "<div>\n",
       "<style scoped>\n",
       "    .dataframe tbody tr th:only-of-type {\n",
       "        vertical-align: middle;\n",
       "    }\n",
       "\n",
       "    .dataframe tbody tr th {\n",
       "        vertical-align: top;\n",
       "    }\n",
       "\n",
       "    .dataframe thead th {\n",
       "        text-align: right;\n",
       "    }\n",
       "</style>\n",
       "<table border=\"1\" class=\"dataframe\">\n",
       "  <thead>\n",
       "    <tr style=\"text-align: right;\">\n",
       "      <th></th>\n",
       "      <th>Demanded_Gas</th>\n",
       "    </tr>\n",
       "    <tr>\n",
       "      <th>Date</th>\n",
       "      <th></th>\n",
       "    </tr>\n",
       "  </thead>\n",
       "  <tbody>\n",
       "    <tr>\n",
       "      <th>2021-10-01</th>\n",
       "      <td>4417.51</td>\n",
       "    </tr>\n",
       "    <tr>\n",
       "      <th>2021-11-01</th>\n",
       "      <td>4557.36</td>\n",
       "    </tr>\n",
       "    <tr>\n",
       "      <th>2021-12-01</th>\n",
       "      <td>4538.89</td>\n",
       "    </tr>\n",
       "    <tr>\n",
       "      <th>2022-01-01</th>\n",
       "      <td>3320.75</td>\n",
       "    </tr>\n",
       "    <tr>\n",
       "      <th>2022-02-01</th>\n",
       "      <td>3449.80</td>\n",
       "    </tr>\n",
       "    <tr>\n",
       "      <th>2022-03-01</th>\n",
       "      <td>3206.96</td>\n",
       "    </tr>\n",
       "    <tr>\n",
       "      <th>2022-04-01</th>\n",
       "      <td>3403.44</td>\n",
       "    </tr>\n",
       "    <tr>\n",
       "      <th>2022-05-01</th>\n",
       "      <td>3350.03</td>\n",
       "    </tr>\n",
       "    <tr>\n",
       "      <th>2022-06-01</th>\n",
       "      <td>3498.70</td>\n",
       "    </tr>\n",
       "    <tr>\n",
       "      <th>2022-07-01</th>\n",
       "      <td>3350.97</td>\n",
       "    </tr>\n",
       "    <tr>\n",
       "      <th>2022-08-01</th>\n",
       "      <td>3506.42</td>\n",
       "    </tr>\n",
       "    <tr>\n",
       "      <th>2022-09-01</th>\n",
       "      <td>3778.37</td>\n",
       "    </tr>\n",
       "  </tbody>\n",
       "</table>\n",
       "</div>"
      ],
      "text/plain": [
       "            Demanded_Gas\n",
       "Date                    \n",
       "2021-10-01       4417.51\n",
       "2021-11-01       4557.36\n",
       "2021-12-01       4538.89\n",
       "2022-01-01       3320.75\n",
       "2022-02-01       3449.80\n",
       "2022-03-01       3206.96\n",
       "2022-04-01       3403.44\n",
       "2022-05-01       3350.03\n",
       "2022-06-01       3498.70\n",
       "2022-07-01       3350.97\n",
       "2022-08-01       3506.42\n",
       "2022-09-01       3778.37"
      ]
     },
     "execution_count": 65,
     "metadata": {},
     "output_type": "execute_result"
    }
   ],
   "source": [
    "## Get training and testing sets \n",
    "demanda_electrico_train_end = datetime(2021,9,1)\n",
    "demanda_electrico_test_end = datetime(2022,9,1)\n",
    "##This means we are taking from 2005 to 2018 as traning data to predict 2019 and 2020\n",
    "\n",
    "demanda_electrico_train_data = demanda_electrico_xls[:demanda_electrico_train_end]\n",
    "demanda_electrico_test_data = demanda_electrico_xls[demanda_electrico_train_end+ timedelta(days=1):demanda_electrico_test_end]\n",
    "demanda_electrico_test_data\n"
   ]
  },
  {
   "cell_type": "markdown",
   "metadata": {},
   "source": [
    "### Proceso de AJUSTE de datos para mejora de modelos ARIMA "
   ]
  },
  {
   "cell_type": "code",
   "execution_count": 66,
   "metadata": {},
   "outputs": [
    {
     "data": {
      "text/html": [
       "<div>\n",
       "<style scoped>\n",
       "    .dataframe tbody tr th:only-of-type {\n",
       "        vertical-align: middle;\n",
       "    }\n",
       "\n",
       "    .dataframe tbody tr th {\n",
       "        vertical-align: top;\n",
       "    }\n",
       "\n",
       "    .dataframe thead th {\n",
       "        text-align: right;\n",
       "    }\n",
       "</style>\n",
       "<table border=\"1\" class=\"dataframe\">\n",
       "  <thead>\n",
       "    <tr style=\"text-align: right;\">\n",
       "      <th></th>\n",
       "      <th>Demanded_Gas</th>\n",
       "    </tr>\n",
       "    <tr>\n",
       "      <th>Date</th>\n",
       "      <th></th>\n",
       "    </tr>\n",
       "  </thead>\n",
       "  <tbody>\n",
       "    <tr>\n",
       "      <th>2005-01-01</th>\n",
       "      <td>1819.58</td>\n",
       "    </tr>\n",
       "    <tr>\n",
       "      <th>2005-02-01</th>\n",
       "      <td>1895.33</td>\n",
       "    </tr>\n",
       "    <tr>\n",
       "      <th>2005-03-01</th>\n",
       "      <td>1765.86</td>\n",
       "    </tr>\n",
       "    <tr>\n",
       "      <th>2005-04-01</th>\n",
       "      <td>1642.70</td>\n",
       "    </tr>\n",
       "    <tr>\n",
       "      <th>2005-05-01</th>\n",
       "      <td>1895.54</td>\n",
       "    </tr>\n",
       "    <tr>\n",
       "      <th>...</th>\n",
       "      <td>...</td>\n",
       "    </tr>\n",
       "    <tr>\n",
       "      <th>2021-05-01</th>\n",
       "      <td>4243.93</td>\n",
       "    </tr>\n",
       "    <tr>\n",
       "      <th>2021-06-01</th>\n",
       "      <td>4985.53</td>\n",
       "    </tr>\n",
       "    <tr>\n",
       "      <th>2021-07-01</th>\n",
       "      <td>4631.85</td>\n",
       "    </tr>\n",
       "    <tr>\n",
       "      <th>2021-08-01</th>\n",
       "      <td>4098.81</td>\n",
       "    </tr>\n",
       "    <tr>\n",
       "      <th>2021-09-01</th>\n",
       "      <td>4424.39</td>\n",
       "    </tr>\n",
       "  </tbody>\n",
       "</table>\n",
       "<p>201 rows × 1 columns</p>\n",
       "</div>"
      ],
      "text/plain": [
       "            Demanded_Gas\n",
       "Date                    \n",
       "2005-01-01       1819.58\n",
       "2005-02-01       1895.33\n",
       "2005-03-01       1765.86\n",
       "2005-04-01       1642.70\n",
       "2005-05-01       1895.54\n",
       "...                  ...\n",
       "2021-05-01       4243.93\n",
       "2021-06-01       4985.53\n",
       "2021-07-01       4631.85\n",
       "2021-08-01       4098.81\n",
       "2021-09-01       4424.39\n",
       "\n",
       "[201 rows x 1 columns]"
      ]
     },
     "execution_count": 66,
     "metadata": {},
     "output_type": "execute_result"
    }
   ],
   "source": [
    "demanda_electrico_train_data"
   ]
  },
  {
   "cell_type": "markdown",
   "metadata": {},
   "source": []
  },
  {
   "cell_type": "code",
   "execution_count": 68,
   "metadata": {},
   "outputs": [
    {
     "data": {
      "text/html": [
       "<div>\n",
       "<style scoped>\n",
       "    .dataframe tbody tr th:only-of-type {\n",
       "        vertical-align: middle;\n",
       "    }\n",
       "\n",
       "    .dataframe tbody tr th {\n",
       "        vertical-align: top;\n",
       "    }\n",
       "\n",
       "    .dataframe thead th {\n",
       "        text-align: right;\n",
       "    }\n",
       "</style>\n",
       "<table border=\"1\" class=\"dataframe\">\n",
       "  <thead>\n",
       "    <tr style=\"text-align: right;\">\n",
       "      <th></th>\n",
       "      <th>Demanded_Gas</th>\n",
       "    </tr>\n",
       "    <tr>\n",
       "      <th>Date</th>\n",
       "      <th></th>\n",
       "    </tr>\n",
       "  </thead>\n",
       "  <tbody>\n",
       "    <tr>\n",
       "      <th>2005-01-01</th>\n",
       "      <td>1819.58</td>\n",
       "    </tr>\n",
       "    <tr>\n",
       "      <th>2005-02-01</th>\n",
       "      <td>1895.33</td>\n",
       "    </tr>\n",
       "    <tr>\n",
       "      <th>2005-03-01</th>\n",
       "      <td>1765.86</td>\n",
       "    </tr>\n",
       "    <tr>\n",
       "      <th>2005-04-01</th>\n",
       "      <td>1642.70</td>\n",
       "    </tr>\n",
       "    <tr>\n",
       "      <th>2005-05-01</th>\n",
       "      <td>1895.54</td>\n",
       "    </tr>\n",
       "    <tr>\n",
       "      <th>...</th>\n",
       "      <td>...</td>\n",
       "    </tr>\n",
       "    <tr>\n",
       "      <th>2021-05-01</th>\n",
       "      <td>4243.93</td>\n",
       "    </tr>\n",
       "    <tr>\n",
       "      <th>2021-06-01</th>\n",
       "      <td>4985.53</td>\n",
       "    </tr>\n",
       "    <tr>\n",
       "      <th>2021-07-01</th>\n",
       "      <td>4631.85</td>\n",
       "    </tr>\n",
       "    <tr>\n",
       "      <th>2021-08-01</th>\n",
       "      <td>4098.81</td>\n",
       "    </tr>\n",
       "    <tr>\n",
       "      <th>2021-09-01</th>\n",
       "      <td>4424.39</td>\n",
       "    </tr>\n",
       "  </tbody>\n",
       "</table>\n",
       "<p>201 rows × 1 columns</p>\n",
       "</div>"
      ],
      "text/plain": [
       "            Demanded_Gas\n",
       "Date                    \n",
       "2005-01-01       1819.58\n",
       "2005-02-01       1895.33\n",
       "2005-03-01       1765.86\n",
       "2005-04-01       1642.70\n",
       "2005-05-01       1895.54\n",
       "...                  ...\n",
       "2021-05-01       4243.93\n",
       "2021-06-01       4985.53\n",
       "2021-07-01       4631.85\n",
       "2021-08-01       4098.81\n",
       "2021-09-01       4424.39\n",
       "\n",
       "[201 rows x 1 columns]"
      ]
     },
     "execution_count": 68,
     "metadata": {},
     "output_type": "execute_result"
    }
   ],
   "source": [
    "import pandas as pd\n",
    "import numpy as np\n",
    "\n",
    "# Load time series data into Pandas DataFrame\n",
    "df_demanda_electrico_train_data = pd.DataFrame(demanda_electrico_train_data) \n",
    "df_demanda_electrico_train_data"
   ]
  },
  {
   "cell_type": "code",
   "execution_count": 69,
   "metadata": {},
   "outputs": [
    {
     "data": {
      "image/png": "[encoded data removed]",
      "text/plain": [
       "<Figure size 432x288 with 1 Axes>"
      ]
     },
     "metadata": {
      "needs_background": "light"
     },
     "output_type": "display_data"
    }
   ],
   "source": [
    "# Generate the histogram\n",
    "plt.hist(df_demanda_electrico_train_data, bins=10)  # Adjust the number of bins as per your data\n",
    "\n",
    "# Add labels and title\n",
    "plt.xlabel('Value')\n",
    "plt.ylabel('Frequency')\n",
    "plt.title('Histograma de data de Demanda de gas natural en sector eléctrico')\n",
    "\n",
    "# Display the plot\n",
    "plt.show()"
   ]
  },
  {
   "cell_type": "code",
   "execution_count": 70,
   "metadata": {},
   "outputs": [
    {
     "data": {
      "image/png": "[encoded data removed]",
      "text/plain": [
       "<Figure size 432x288 with 1 Axes>"
      ]
     },
     "metadata": {
      "needs_background": "light"
     },
     "output_type": "display_data"
    }
   ],
   "source": [
    "# Load time series data into Pandas DataFrame\n",
    "df_outliers_demanda_electrico_train_data = pd.DataFrame(outliers_demanda_electrico_train_data) \n",
    "df_outliers_demanda_electrico_train_data\n",
    "\n",
    "# Generate the histogram\n",
    "plt.hist(df_outliers_demanda_electrico_train_data, bins=10)  # Adjust the number of bins as per your data\n",
    "\n",
    "# Add labels and title\n",
    "plt.xlabel('Value')\n",
    "plt.ylabel('Frequency')\n",
    "plt.title('Histograma de data de Demanda de gas natural en sector eléctrico')\n",
    "\n",
    "# Display the plot\n",
    "plt.show()"
   ]
  },
  {
   "cell_type": "markdown",
   "metadata": {},
   "source": []
  },
  {
   "cell_type": "code",
   "execution_count": 82,
   "metadata": {},
   "outputs": [],
   "source": [
    "import pandas as pd\n",
    "\n",
    "def remove_replace_outliers(data):\n",
    "    # Calculate Q1 and Q3\n",
    "    Q1 = data.quantile(0.25)\n",
    "    Q3 = data.quantile(0.75)\n",
    "    IQR = Q3 - Q1\n",
    "\n",
    "    # Identify outliers\n",
    "    outliers_mask = (data < (Q1 - 1.3 * IQR)) | (data > (Q3 + 1.3 * IQR))\n",
    "\n",
    "    # Calculate the historical mean excluding outliers\n",
    "    historical_mean = data[~outliers_mask].mean()\n",
    "\n",
    "    # Replace outliers with historical mean\n",
    "    data.loc[outliers_mask] = historical_mean\n",
    "\n",
    "    return data\n",
    "\n"
   ]
  },
  {
   "cell_type": "code",
   "execution_count": 83,
   "metadata": {},
   "outputs": [
    {
     "name": "stderr",
     "output_type": "stream",
     "text": [
      "C:\\Users\\llell\\AppData\\Local\\Temp\\ipykernel_35052\\612675990.py:16: SettingWithCopyWarning: \n",
      "A value is trying to be set on a copy of a slice from a DataFrame\n",
      "\n",
      "See the caveats in the documentation: https://pandas.pydata.org/pandas-docs/stable/user_guide/indexing.html#returning-a-view-versus-a-copy\n",
      "  data.loc[outliers_mask] = historical_mean\n",
      "C:\\Users\\llell\\AppData\\Local\\Temp\\ipykernel_35052\\2306509058.py:2: SettingWithCopyWarning: \n",
      "A value is trying to be set on a copy of a slice from a DataFrame.\n",
      "Try using .loc[row_indexer,col_indexer] = value instead\n",
      "\n",
      "See the caveats in the documentation: https://pandas.pydata.org/pandas-docs/stable/user_guide/indexing.html#returning-a-view-versus-a-copy\n",
      "  demanda_electrico_train_data[column_name] = remove_replace_outliers(demanda_electrico_train_data[column_name])\n"
     ]
    }
   ],
   "source": [
    "column_name = 'Demanded_Gas'  # Replace with your actual column name\n",
    "demanda_electrico_train_data[column_name] = remove_replace_outliers(demanda_electrico_train_data[column_name])\n"
   ]
  },
  {
   "cell_type": "code",
   "execution_count": 84,
   "metadata": {},
   "outputs": [
    {
     "data": {
      "text/html": [
       "<div>\n",
       "<style scoped>\n",
       "    .dataframe tbody tr th:only-of-type {\n",
       "        vertical-align: middle;\n",
       "    }\n",
       "\n",
       "    .dataframe tbody tr th {\n",
       "        vertical-align: top;\n",
       "    }\n",
       "\n",
       "    .dataframe thead th {\n",
       "        text-align: right;\n",
       "    }\n",
       "</style>\n",
       "<table border=\"1\" class=\"dataframe\">\n",
       "  <thead>\n",
       "    <tr style=\"text-align: right;\">\n",
       "      <th></th>\n",
       "      <th>Demanded_Gas</th>\n",
       "    </tr>\n",
       "    <tr>\n",
       "      <th>Date</th>\n",
       "      <th></th>\n",
       "    </tr>\n",
       "  </thead>\n",
       "  <tbody>\n",
       "    <tr>\n",
       "      <th>2005-01-01</th>\n",
       "      <td>1819.580000</td>\n",
       "    </tr>\n",
       "    <tr>\n",
       "      <th>2005-02-01</th>\n",
       "      <td>1895.330000</td>\n",
       "    </tr>\n",
       "    <tr>\n",
       "      <th>2005-03-01</th>\n",
       "      <td>1765.860000</td>\n",
       "    </tr>\n",
       "    <tr>\n",
       "      <th>2005-04-01</th>\n",
       "      <td>1642.700000</td>\n",
       "    </tr>\n",
       "    <tr>\n",
       "      <th>2005-05-01</th>\n",
       "      <td>1895.540000</td>\n",
       "    </tr>\n",
       "    <tr>\n",
       "      <th>...</th>\n",
       "      <td>...</td>\n",
       "    </tr>\n",
       "    <tr>\n",
       "      <th>2021-05-01</th>\n",
       "      <td>4243.930000</td>\n",
       "    </tr>\n",
       "    <tr>\n",
       "      <th>2021-06-01</th>\n",
       "      <td>2961.656904</td>\n",
       "    </tr>\n",
       "    <tr>\n",
       "      <th>2021-07-01</th>\n",
       "      <td>2961.656904</td>\n",
       "    </tr>\n",
       "    <tr>\n",
       "      <th>2021-08-01</th>\n",
       "      <td>4098.810000</td>\n",
       "    </tr>\n",
       "    <tr>\n",
       "      <th>2021-09-01</th>\n",
       "      <td>2931.123563</td>\n",
       "    </tr>\n",
       "  </tbody>\n",
       "</table>\n",
       "<p>201 rows × 1 columns</p>\n",
       "</div>"
      ],
      "text/plain": [
       "            Demanded_Gas\n",
       "Date                    \n",
       "2005-01-01   1819.580000\n",
       "2005-02-01   1895.330000\n",
       "2005-03-01   1765.860000\n",
       "2005-04-01   1642.700000\n",
       "2005-05-01   1895.540000\n",
       "...                  ...\n",
       "2021-05-01   4243.930000\n",
       "2021-06-01   2961.656904\n",
       "2021-07-01   2961.656904\n",
       "2021-08-01   4098.810000\n",
       "2021-09-01   2931.123563\n",
       "\n",
       "[201 rows x 1 columns]"
      ]
     },
     "execution_count": 84,
     "metadata": {},
     "output_type": "execute_result"
    }
   ],
   "source": [
    "demanda_electrico_train_data"
   ]
  },
  {
   "cell_type": "markdown",
   "metadata": {},
   "source": []
  },
  {
   "cell_type": "code",
   "execution_count": 85,
   "metadata": {},
   "outputs": [
    {
     "name": "stderr",
     "output_type": "stream",
     "text": [
      "c:\\Users\\llell\\AppData\\Local\\Programs\\Python\\Python310\\lib\\site-packages\\statsmodels\\tsa\\base\\tsa_model.py:471: ValueWarning: No frequency information was provided, so inferred frequency MS will be used.\n",
      "  self._init_dates(dates, freq)\n",
      "c:\\Users\\llell\\AppData\\Local\\Programs\\Python\\Python310\\lib\\site-packages\\statsmodels\\tsa\\base\\tsa_model.py:471: ValueWarning: No frequency information was provided, so inferred frequency MS will be used.\n",
      "  self._init_dates(dates, freq)\n",
      "c:\\Users\\llell\\AppData\\Local\\Programs\\Python\\Python310\\lib\\site-packages\\statsmodels\\tsa\\base\\tsa_model.py:471: ValueWarning: No frequency information was provided, so inferred frequency MS will be used.\n",
      "  self._init_dates(dates, freq)\n",
      "c:\\Users\\llell\\AppData\\Local\\Programs\\Python\\Python310\\lib\\site-packages\\statsmodels\\tsa\\statespace\\sarimax.py:978: UserWarning: Non-invertible starting MA parameters found. Using zeros as starting parameters.\n",
      "  warn('Non-invertible starting MA parameters found.'\n"
     ]
    },
    {
     "name": "stdout",
     "output_type": "stream",
     "text": [
      "Model fitting time 0.496366024017334\n",
      "                               SARIMAX Results                                \n",
      "==============================================================================\n",
      "Dep. Variable:           Demanded_Gas   No. Observations:                  201\n",
      "Model:                 ARIMA(4, 1, 4)   Log Likelihood               -1406.947\n",
      "Date:                Tue, 05 Sep 2023   AIC                           2831.894\n",
      "Time:                        19:43:47   BIC                           2861.579\n",
      "Sample:                    01-01-2005   HQIC                          2843.907\n",
      "                         - 09-01-2021                                         \n",
      "Covariance Type:                  opg                                         \n",
      "==============================================================================\n",
      "                 coef    std err          z      P>|z|      [0.025      0.975]\n",
      "------------------------------------------------------------------------------\n",
      "ar.L1          0.5296      0.303      1.750      0.080      -0.063       1.123\n",
      "ar.L2         -0.4308      0.128     -3.377      0.001      -0.681      -0.181\n",
      "ar.L3          0.9649      0.218      4.423      0.000       0.537       1.392\n",
      "ar.L4         -0.4069      0.110     -3.693      0.000      -0.623      -0.191\n",
      "ma.L1         -0.9470      0.308     -3.077      0.002      -1.550      -0.344\n",
      "ma.L2          0.3650      0.047      7.750      0.000       0.273       0.457\n",
      "ma.L3         -1.1166      0.124     -8.995      0.000      -1.360      -0.873\n",
      "ma.L4          0.7606      0.272      2.798      0.005       0.228       1.293\n",
      "sigma2      6.587e+04   6547.760     10.060      0.000     5.3e+04    7.87e+04\n",
      "===================================================================================\n",
      "Ljung-Box (L1) (Q):                   0.37   Jarque-Bera (JB):               177.52\n",
      "Prob(Q):                              0.54   Prob(JB):                         0.00\n",
      "Heteroskedasticity (H):               2.97   Skew:                            -0.42\n",
      "Prob(H) (two-sided):                  0.00   Kurtosis:                         7.54\n",
      "===================================================================================\n",
      "\n",
      "Warnings:\n",
      "[1] Covariance matrix calculated using the outer product of gradients (complex-step).\n"
     ]
    },
    {
     "name": "stderr",
     "output_type": "stream",
     "text": [
      "c:\\Users\\llell\\AppData\\Local\\Programs\\Python\\Python310\\lib\\site-packages\\statsmodels\\base\\model.py:604: ConvergenceWarning: Maximum Likelihood optimization failed to converge. Check mle_retvals\n",
      "  warnings.warn(\"Maximum Likelihood optimization failed to \"\n"
     ]
    }
   ],
   "source": [
    "\n",
    "##Create the model\n",
    "model_ARIMA_electrico = ARIMA (demanda_electrico_train_data, order=(4,1,4))\n",
    "\n",
    "##Fit the model\n",
    "start = time()\n",
    "model_ARIMA_electrico_fit = model_ARIMA_electrico.fit()\n",
    "end = time()\n",
    "print('Model fitting time', end-start)\n",
    "\n",
    "##Summary of the model \n",
    "print(model_ARIMA_electrico_fit.summary())\n"
   ]
  },
  {
   "cell_type": "markdown",
   "metadata": {},
   "source": []
  },
  {
   "cell_type": "code",
   "execution_count": 42,
   "metadata": {},
   "outputs": [
    {
     "data": {
      "text/html": [
       "<div>\n",
       "<style scoped>\n",
       "    .dataframe tbody tr th:only-of-type {\n",
       "        vertical-align: middle;\n",
       "    }\n",
       "\n",
       "    .dataframe tbody tr th {\n",
       "        vertical-align: top;\n",
       "    }\n",
       "\n",
       "    .dataframe thead th {\n",
       "        text-align: right;\n",
       "    }\n",
       "</style>\n",
       "<table border=\"1\" class=\"dataframe\">\n",
       "  <thead>\n",
       "    <tr style=\"text-align: right;\">\n",
       "      <th></th>\n",
       "      <th>Demanded_Gas</th>\n",
       "    </tr>\n",
       "    <tr>\n",
       "      <th>Date</th>\n",
       "      <th></th>\n",
       "    </tr>\n",
       "  </thead>\n",
       "  <tbody>\n",
       "    <tr>\n",
       "      <th>2021-10-01</th>\n",
       "      <td>4417.51</td>\n",
       "    </tr>\n",
       "    <tr>\n",
       "      <th>2021-11-01</th>\n",
       "      <td>4557.36</td>\n",
       "    </tr>\n",
       "    <tr>\n",
       "      <th>2021-12-01</th>\n",
       "      <td>4538.89</td>\n",
       "    </tr>\n",
       "    <tr>\n",
       "      <th>2022-01-01</th>\n",
       "      <td>3320.75</td>\n",
       "    </tr>\n",
       "    <tr>\n",
       "      <th>2022-02-01</th>\n",
       "      <td>3449.80</td>\n",
       "    </tr>\n",
       "    <tr>\n",
       "      <th>2022-03-01</th>\n",
       "      <td>3206.96</td>\n",
       "    </tr>\n",
       "    <tr>\n",
       "      <th>2022-04-01</th>\n",
       "      <td>3403.44</td>\n",
       "    </tr>\n",
       "    <tr>\n",
       "      <th>2022-05-01</th>\n",
       "      <td>3350.03</td>\n",
       "    </tr>\n",
       "    <tr>\n",
       "      <th>2022-06-01</th>\n",
       "      <td>3498.70</td>\n",
       "    </tr>\n",
       "    <tr>\n",
       "      <th>2022-07-01</th>\n",
       "      <td>3350.97</td>\n",
       "    </tr>\n",
       "    <tr>\n",
       "      <th>2022-08-01</th>\n",
       "      <td>3506.42</td>\n",
       "    </tr>\n",
       "    <tr>\n",
       "      <th>2022-09-01</th>\n",
       "      <td>3778.37</td>\n",
       "    </tr>\n",
       "  </tbody>\n",
       "</table>\n",
       "</div>"
      ],
      "text/plain": [
       "            Demanded_Gas\n",
       "Date                    \n",
       "2021-10-01       4417.51\n",
       "2021-11-01       4557.36\n",
       "2021-12-01       4538.89\n",
       "2022-01-01       3320.75\n",
       "2022-02-01       3449.80\n",
       "2022-03-01       3206.96\n",
       "2022-04-01       3403.44\n",
       "2022-05-01       3350.03\n",
       "2022-06-01       3498.70\n",
       "2022-07-01       3350.97\n",
       "2022-08-01       3506.42\n",
       "2022-09-01       3778.37"
      ]
     },
     "execution_count": 42,
     "metadata": {},
     "output_type": "execute_result"
    }
   ],
   "source": [
    "demanda_electrico_test_data"
   ]
  },
  {
   "cell_type": "code",
   "execution_count": 86,
   "metadata": {},
   "outputs": [],
   "source": [
    "\n",
    "# Get prediction start and end dates\n",
    "pred_model_ARIMA_electrico_start_date = demanda_electrico_test_data.index[0]\n",
    "pred_model_ARIMA_electrico_end_date = demanda_electrico_test_data.index[-1]\n"
   ]
  },
  {
   "cell_type": "code",
   "execution_count": 87,
   "metadata": {},
   "outputs": [
    {
     "data": {
      "text/plain": [
       "Timestamp('2022-09-01 00:00:00')"
      ]
     },
     "execution_count": 87,
     "metadata": {},
     "output_type": "execute_result"
    }
   ],
   "source": [
    "pred_model_ARIMA_electrico_end_date"
   ]
  },
  {
   "cell_type": "code",
   "execution_count": 88,
   "metadata": {},
   "outputs": [
    {
     "data": {
      "text/plain": [
       "2021-10-01    3035.851872\n",
       "2021-11-01    3354.685121\n",
       "2021-12-01    3560.002885\n",
       "2022-01-01    3365.393964\n",
       "2022-02-01    3438.919495\n",
       "2022-03-01    3630.056002\n",
       "2022-04-01    3428.274851\n",
       "2022-05-01    3389.221266\n",
       "2022-06-01    3609.968322\n",
       "2022-07-01    3471.212864\n",
       "2022-08-01    3347.070887\n",
       "2022-09-01    3569.991934\n",
       "Freq: MS, Name: predicted_mean, dtype: float64"
      ]
     },
     "execution_count": 88,
     "metadata": {},
     "output_type": "execute_result"
    }
   ],
   "source": [
    "# Get the predictors and residuals\n",
    "predictions_model_ARIMA_electrico = model_ARIMA_electrico_fit.predict(\n",
    "    start=pred_model_ARIMA_electrico_start_date,\n",
    "    end=pred_model_ARIMA_electrico_end_date,\n",
    "    typ='levels'  # You can specify the type of prediction you want\n",
    ")\n",
    "\n",
    "predictions_model_ARIMA_electrico"
   ]
  },
  {
   "cell_type": "code",
   "execution_count": 89,
   "metadata": {},
   "outputs": [
    {
     "data": {
      "text/plain": [
       "Text(0, 0.5, 'Demanda [MMpcd]')"
      ]
     },
     "execution_count": 89,
     "metadata": {},
     "output_type": "execute_result"
    },
    {
     "data": {
      "image/png": "[encoded data removed]",
      "text/plain": [
       "<Figure size 720x288 with 1 Axes>"
      ]
     },
     "metadata": {
      "needs_background": "light"
     },
     "output_type": "display_data"
    }
   ],
   "source": [
    "\n",
    "##Ploting the predicitons vs the test_data\n",
    "plt.figure(figsize =(10,4))\n",
    "plt.plot(demanda_electrico_test_data)\n",
    "plt.plot(predictions_model_ARIMA_electrico)\n",
    "plt.legend(('Data', 'Predictions'), fontsize=16)\n",
    "\n",
    "plt.title('Demanda sector electrico test_data & predicitons ARIMA(4,1,4) model', fontsize=20)\n",
    "plt.ylabel('Demanda [MMpcd]', fontsize=16)"
   ]
  }
 ],
 "metadata": {
  "kernelspec": {
   "display_name": "Python 3",
   "language": "python",
   "name": "python3"
  },
  "language_info": {
   "codemirror_mode": {
    "name": "ipython",
    "version": 3
   },
   "file_extension": ".py",
   "mimetype": "text/x-python",
   "name": "python",
   "nbconvert_exporter": "python",
   "pygments_lexer": "ipython3",
   "version": "3.10.5"
  },
  "orig_nbformat": 4
 },
 "nbformat": 4,
 "nbformat_minor": 2
}
